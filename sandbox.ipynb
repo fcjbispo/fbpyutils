{
 "cells": [
  {
   "cell_type": "code",
   "execution_count": 1,
   "id": "843d22d6",
   "metadata": {},
   "outputs": [
    {
     "name": "stderr",
     "output_type": "stream",
     "text": [
      "2025-09-07 18:35:04,666 - fbpyutils - INFO - setup completed.\n",
      "2025-09-07 18:35:04,964 - fbpyutils - INFO - Running using AppConfig: name='FBPyUtils' version='1.6.13' environment='dev' appcode='FBPYUTILS' year=2025\n"
     ]
    }
   ],
   "source": [
    "import os\n",
    "import json\n",
    "from datetime import datetime\n",
    "import fbpyutils\n",
    "from fbpyutils import file as fu\n",
    "env, logger = fbpyutils.get_env(), fbpyutils.get_logger()\n",
    "logger.info(f\"Running using AppConfig: {env.APP}\")"
   ]
  },
  {
   "cell_type": "code",
   "execution_count": null,
   "id": "edb6cfe8",
   "metadata": {},
   "outputs": [],
   "source": [
    "from tqdm.notebook import tqdm\n",
    "from tqdm.contrib.concurrent import process_map\n",
    "import multiprocessing"
   ]
  },
  {
   "cell_type": "code",
   "execution_count": null,
   "id": "dee861b0",
   "metadata": {},
   "outputs": [],
   "source": [
    "def process_source(source_dir, source_mask, source_label, exclusion_list, report_target_path):\n",
    "    def process_file(f):\n",
    "        file_report = {\n",
    "            \"file_path\": \"\",\n",
    "            \"status\": \"OK\", \n",
    "            \"status_message\": None\n",
    "        }\n",
    "        file_report[\"file_path\"] = f\n",
    "        try:\n",
    "            file_report[\"details\"] = fu.describe_file(f)\n",
    "            file_report[\"status\"] = \"OK\"\n",
    "            file_report[\"status_message\"] = None\n",
    "            logger.info(f\"File {f} successfully described.\")\n",
    "        except Exception as e:\n",
    "            file_report[\"details\"] = None\n",
    "            file_report[\"status\"] = \"ERROR\"\n",
    "            file_report[\"status_message\"] = str(e)\n",
    "            logger.error(f\"Error trying to descrige file {f}: {str(e)}.\")\n",
    "        return file_report\n",
    "\n",
    "    report = {\n",
    "        \"source_name\": source_label,\n",
    "        \"source_dir\": source_dir,\n",
    "        \"source_mask\": source_mask,\n",
    "        \"start_extraction\": datetime.now(),\n",
    "        \"files\": [],\n",
    "        \"status\": \"OK\"\n",
    "    }\n",
    "    try:\n",
    "        files_on_source = fu.find(source_dir, source_mask, recurse=True, parallel=True)\n",
    "        logger.info(f\"Found {len(files_on_source)} files on {source_label} ({source_dir})\")\n",
    "\n",
    "        files_to_process = [f for f in files_on_source if f not in [f for x in exclusion_list if f.__contains__(x)]]\n",
    "        logger.info(f\"Selected {len(files_to_process)} files on {source_label} ({source_dir})\")\n",
    "\n",
    "        report[\"files\"] = process_map(\n",
    "                process_file, \n",
    "                files_to_process, \n",
    "                max_workers=multiprocessing.cpu_count(),\n",
    "                desc=f\"Processing {len(files_to_process)} files on {source_dir}...\",\n",
    "                chunksize=250\n",
    "        )\n",
    "        report_target_path=os.path.sep.join([\n",
    "            report_target_path, \n",
    "            f\"REPORT_{source_label}_{report['end_extraction'].strftime('%Y%m%d%H%M%S')}.json\"\n",
    "        ])\n",
    "        with open(report_target_path, \"w\", encoding=\"utf-8\") as f:\n",
    "            f.write(json.dumps(report, ensure_ascii=False, allow_nan=True, default=str, sort_keys=False, indent=4))\n",
    "            logger.info(f\"Report for {source_label} writed at {report_target_path}.\")\n",
    "    except Exception as e:\n",
    "        report[\"status\"] = f\"FAIL: {str(e)}\"\n",
    "    \n",
    "    report['end_extraction'] = datetime.now()\n",
    "    return report\n",
    "\n",
    "exclusion_list = (\n",
    "    f\"{os.path.sep}.\", \n",
    "    f\"{os.path.sep}AppData{os.path.sep}\", \n",
    "    f\"{os.path.sep}CrossDevice{os.path.sep}\", \n",
    ")\n",
    "\n",
    "report_target_path=r\"C:\\Users\\fcjbispo\\Downloads\"\n",
    "\n",
    "source_list = (\n",
    "    (\"I:/\", \"*\", \"YGGDRASIL_DISK_IA\", exclusion_list, report_target_path),\n",
    "    (\"G:/Meu Drive\", \"*\", \"YGGDRASIL_GDRIVE\", exclusion_list, report_target_path),\n",
    "    (\"C:/Users/fcjbispo\", \"*\", \"YGGDRASIL_FCBISPO_HOME\", exclusion_list, report_target_path),\n",
    "    (\"E:/Shared\", \"*\", \"YGGDRASIL_DATA_SHARED\", exclusion_list, report_target_path)\n",
    ")\n",
    "\n",
    "# resultados = process_map(\n",
    "#     process_source, \n",
    "#     source_list, \n",
    "#     max_workers=multiprocessing.cpu_count(),\n",
    "#     desc=\"Processando...\"\n",
    "# )\n",
    "resultados = []\n",
    "for source in tqdm(source_list, desc=\"Processing...\"):\n",
    "    source_dir, source_mask, source_label, exclusion_list, report_target_path = source\n",
    "\n",
    "source_dir, source_mask, source_label, exclusion_list, report_target_path\n",
    "\n",
    "resultados.append(process_source(*source))"
   ]
  },
  {
   "cell_type": "code",
   "execution_count": null,
   "id": "5e5e924e",
   "metadata": {},
   "outputs": [],
   "source": []
  }
 ],
 "metadata": {
  "kernelspec": {
   "display_name": "FBPyUtils (3.11.9)",
   "language": "python",
   "name": "python3"
  },
  "language_info": {
   "codemirror_mode": {
    "name": "ipython",
    "version": 3
   },
   "file_extension": ".py",
   "mimetype": "text/x-python",
   "name": "python",
   "nbconvert_exporter": "python",
   "pygments_lexer": "ipython3",
   "version": "3.11.9"
  }
 },
 "nbformat": 4,
 "nbformat_minor": 5
}
