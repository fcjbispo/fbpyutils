{
 "cells": [
  {
   "cell_type": "code",
   "execution_count": 14,
   "id": "843d22d6",
   "metadata": {},
   "outputs": [],
   "source": [
    "import os\n",
    "import json\n",
    "from datetime import datetime\n",
    "from tqdm.notebook import tqdm\n",
    "import fbpyutils\n",
    "from fbpyutils import file as fu, image as uu\n",
    "\n",
    "env, logger = fbpyutils.get_env(), fbpyutils.get_logger()"
   ]
  },
  {
   "cell_type": "code",
   "execution_count": 15,
   "id": "5e399026",
   "metadata": {},
   "outputs": [
    {
     "name": "stderr",
     "output_type": "stream",
     "text": [
      "2025-07-20 10:56:06,264 - fbpyutils - INFO - Running using AppConfig: name='FBPyUtils' version='1.6.6' environment='dev' appcode='FBPYUTILS' year=2025\n"
     ]
    }
   ],
   "source": [
    "logger.info(f\"Running using AppConfig: {env.APP}\")"
   ]
  },
  {
   "cell_type": "code",
   "execution_count": null,
   "id": "dee861b0",
   "metadata": {},
   "outputs": [
    {
     "name": "stderr",
     "output_type": "stream",
     "text": [
      "2025-07-20 11:06:02,651 - fbpyutils - INFO - Default multi-threads parallelization available\n",
      "2025-07-20 11:06:02,653 - fbpyutils - INFO - Process initialized: parallel=True, type=threads, workers=16\n",
      "2025-07-20 11:06:02,654 - fbpyutils - INFO - Starting execution with 3 parameter sets.\n",
      "2025-07-20 11:06:02,655 - fbpyutils - INFO - Starting parallel execution with 16 workers using threads.\n",
      "2025-07-20 11:06:04,113 - fbpyutils - INFO - Processed 3 items successfully in parallel.\n",
      "2025-07-20 11:06:04,272 - fbpyutils - INFO - Found 6105 files on DATA_SHARED (E:\\Shared)\n"
     ]
    }
   ],
   "source": [
    "inclusion_list = (\n",
    "    (\"I:/\", \"*\", \"YGGDRASIL_DISK_IA\"),\n",
    "    (r\"G:\\Meu Drive\", \"*\", \"YGGDRASIL_GDRIVE\"),\n",
    "    (r\"C:\\Users\\fcjbispo\", \"*\", \"YGGDRASIL_FCBISPO_HOME\"),\n",
    "    (r\"E:\\Shared\", \"*\", \"YGGDRASIL_DATA_SHARED\")\n",
    ")\n",
    "\n",
    "exclusion_list = (\n",
    "    f\"{os.path.sep}.\", \n",
    "    f\"{os.path.sep}AppData{os.path.sep}\", \n",
    "    f\"{os.path.sep}CrossDevice{os.path.sep}\", \n",
    ")\n",
    "\n",
    "report_target_path=r\"C:\\Users\\fcjbispo\\Downloads\"\n",
    "\n",
    "# source_dir, source_mask, source_label =\n",
    "\n",
    "files_on_source = fu.find(source_dir, source_mask, recurse=True, parallel=True)\n",
    "\n",
    "logger.info(f\"Found {len(files_on_source)} files on {source_label} ({source_dir})\")"
   ]
  },
  {
   "cell_type": "code",
   "execution_count": null,
   "id": "8255a80d",
   "metadata": {},
   "outputs": [],
   "source": []
  },
  {
   "cell_type": "code",
   "execution_count": 44,
   "id": "703def2f",
   "metadata": {},
   "outputs": [
    {
     "name": "stderr",
     "output_type": "stream",
     "text": [
      "2025-07-20 11:06:04,306 - fbpyutils - INFO - Filtered 4067 files on DATA_SHARED (E:\\Shared) to process\n"
     ]
    }
   ],
   "source": [
    "files_to_process = [f for f in files_on_source if f not in [f for x in exclusion_list if f.__contains__(x)]]\n",
    "logger.info(f\"Filtered {len(files_to_process)} files on {source_label} ({source_dir}) to process\")"
   ]
  },
  {
   "cell_type": "code",
   "execution_count": 45,
   "id": "90cc4d7d",
   "metadata": {},
   "outputs": [
    {
     "data": {
      "application/vnd.jupyter.widget-view+json": {
       "model_id": "fba65df0db444da79dcdd31baa227771",
       "version_major": 2,
       "version_minor": 0
      },
      "text/plain": [
       "  0%|          | 0/4067 [00:00<?, ?it/s]"
      ]
     },
     "metadata": {},
     "output_type": "display_data"
    },
    {
     "name": "stderr",
     "output_type": "stream",
     "text": [
      "2025-07-20 11:08:25,171 - fbpyutils - WARNING - Could not guess mime type for 'E:\\Shared\\MJOLNIR\\Local\\DCIM\\Camera\\Thumbs.db'. Defaulting to 'application/octet-stream'.\n",
      "2025-07-20 11:08:33,768 - fbpyutils - WARNING - Could not guess mime type for 'E:\\Shared\\MJOLNIR\\Local\\Download\\BoardingPass.pkpass'. Defaulting to 'application/octet-stream'.\n",
      "2025-07-20 11:08:34,287 - fbpyutils - WARNING - Could not guess mime type for 'E:\\Shared\\MJOLNIR\\Local\\Download\\FREYA-FCJBISPO.rdp'. Defaulting to 'application/octet-stream'.\n",
      "2025-07-20 11:08:35,014 - fbpyutils - WARNING - Could not guess mime type for 'E:\\Shared\\MJOLNIR\\Local\\Download\\Precificação do Azure Data Factory'. Defaulting to 'application/octet-stream'.\n",
      "2025-07-20 11:08:35,977 - fbpyutils - WARNING - Could not guess mime type for 'E:\\Shared\\MJOLNIR\\Local\\Download\\Tata Code of Conduct 2015 - Contents'. Defaulting to 'application/octet-stream'.\n",
      "2025-07-20 11:08:36,001 - fbpyutils - WARNING - Could not guess mime type for 'E:\\Shared\\MJOLNIR\\Local\\Download\\Ultimatix Apps (1).apk'. Defaulting to 'application/octet-stream'.\n",
      "2025-07-20 11:08:36,091 - fbpyutils - WARNING - Could not guess mime type for 'E:\\Shared\\MJOLNIR\\Local\\Download\\Ultimatix Apps.apk'. Defaulting to 'application/octet-stream'.\n",
      "2025-07-20 11:08:36,902 - fbpyutils - WARNING - Could not guess mime type for 'E:\\Shared\\MJOLNIR\\Local\\Download\\fbnet-instances.pem'. Defaulting to 'application/octet-stream'.\n",
      "2025-07-20 11:08:36,926 - fbpyutils - WARNING - Could not guess mime type for 'E:\\Shared\\MJOLNIR\\Local\\Download\\iEvolve _ Course Details'. Defaulting to 'application/octet-stream'.\n"
     ]
    }
   ],
   "source": [
    "report = {\n",
    "    \"source_name\": source_label,\n",
    "    \"source_dir\": source_dir,\n",
    "    \"source_mask\": source_mask,\n",
    "    \"start_extraction\": datetime.now(),\n",
    "    \"files\": [],\n",
    "}\n",
    "\n",
    "file_report = {\n",
    "    \"file_path\": \"\",\n",
    "    \"status\": \"OK\", \n",
    "    \"status_message\": None\n",
    "}\n",
    "\n",
    "for f in tqdm(files_to_process):\n",
    "    file_report[\"file_path\"] = f\n",
    "    try:\n",
    "        file_report[\"details\"] = fu.describe_file(f)\n",
    "        file_report[\"status\"] = \"OK\"\n",
    "        file_report[\"status_message\"] = None\n",
    "    except Exception as e:\n",
    "        file_report[\"details\"] = None\n",
    "        file_report[\"status\"] = \"ERROR\"\n",
    "        file_report[\"status_message\"] = str(e)\n",
    "    report[\"files\"].append(file_report.copy())\n",
    "\n",
    "report[\"end_extraction\"] = datetime.now()"
   ]
  },
  {
   "cell_type": "code",
   "execution_count": 46,
   "id": "e8ab2150",
   "metadata": {},
   "outputs": [
    {
     "data": {
      "text/plain": [
       "(dict_keys(['source_name', 'source_dir', 'source_mask', 'start_extraction', 'files', 'end_extraction']),\n",
       " 4067)"
      ]
     },
     "execution_count": 46,
     "metadata": {},
     "output_type": "execute_result"
    }
   ],
   "source": [
    "report.keys(),len(report['files'])"
   ]
  },
  {
   "cell_type": "code",
   "execution_count": 47,
   "id": "7a80551c",
   "metadata": {},
   "outputs": [
    {
     "data": {
      "text/plain": [
       "datetime.datetime(2025, 7, 20, 11, 8, 46, 557791)"
      ]
     },
     "execution_count": 47,
     "metadata": {},
     "output_type": "execute_result"
    }
   ],
   "source": [
    "report['end_extraction']"
   ]
  },
  {
   "cell_type": "code",
   "execution_count": 48,
   "id": "b1f08995",
   "metadata": {},
   "outputs": [],
   "source": [
    "report_target_path=os.path.sep.join([r\"C:\\Users\\fcjbispo\\Downloads\", f\"REPORT_{source_label}_{report['end_extraction'].strftime('%Y%m%d%H%M%S')}.json\"])"
   ]
  },
  {
   "cell_type": "code",
   "execution_count": 51,
   "id": "4d7afff7",
   "metadata": {},
   "outputs": [
    {
     "name": "stdout",
     "output_type": "stream",
     "text": [
      "Report for DATA_SHARED writed at C:\\Users\\fcjbispo\\Downloads\\REPORT_DATA_SHARED_20250720110846.json.\n"
     ]
    }
   ],
   "source": [
    "with open(report_target_path, \"w\", encoding=\"utf-8\") as f:\n",
    "    f.write(json.dumps(report, ensure_ascii=False, allow_nan=True, default=str, sort_keys=False, indent=4))\n",
    "    print(f\"Report for {source_label} writed at {report_target_path}.\")"
   ]
  }
 ],
 "metadata": {
  "kernelspec": {
   "display_name": ".venv",
   "language": "python",
   "name": "python3"
  },
  "language_info": {
   "codemirror_mode": {
    "name": "ipython",
    "version": 3
   },
   "file_extension": ".py",
   "mimetype": "text/x-python",
   "name": "python",
   "nbconvert_exporter": "python",
   "pygments_lexer": "ipython3",
   "version": "3.11.9"
  }
 },
 "nbformat": 4,
 "nbformat_minor": 5
}
