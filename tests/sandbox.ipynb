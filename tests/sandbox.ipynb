{
 "cells": [
  {
   "cell_type": "code",
   "execution_count": 9,
   "metadata": {},
   "outputs": [],
   "source": [
    "import os, sys\n",
    "sys.path.insert(0, '..')"
   ]
  },
  {
   "cell_type": "code",
   "execution_count": 10,
   "metadata": {},
   "outputs": [],
   "source": [
    "from fbpyutils import xlsx as XL, db as DB\n",
    "import hashlib"
   ]
  },
  {
   "cell_type": "code",
   "execution_count": 11,
   "metadata": {},
   "outputs": [],
   "source": [
    "j = {\n",
    "        'operation': 1,\n",
    "        'table_name': 2,\n",
    "        'insertions': 3,\n",
    "        'updates': 4,\n",
    "        'failures': [(0,'failure1'), (1,'failure2')],\n",
    "    }"
   ]
  },
  {
   "cell_type": "code",
   "execution_count": 12,
   "metadata": {},
   "outputs": [
    {
     "data": {
      "text/plain": [
       "\"operation='1', table_name='2', insertions='3', updates='4', failures='[(0, 'failure1'), (1, 'failure2')]'\""
      ]
     },
     "execution_count": 12,
     "metadata": {},
     "output_type": "execute_result"
    }
   ],
   "source": [
    "', '.join([f\"{k}='{str(v)}'\" for k, v in j.items()])"
   ]
  },
  {
   "cell_type": "code",
   "execution_count": 13,
   "metadata": {},
   "outputs": [
    {
     "data": {
      "text/plain": [
       "\"{'operation': 1, 'table_name': 2, 'insertions': 3, 'updates': 4, 'failures': [(0, 'failure1'), (1, 'failure2')]}\""
      ]
     },
     "execution_count": 13,
     "metadata": {},
     "output_type": "execute_result"
    }
   ],
   "source": [
    "str(j)"
   ]
  },
  {
   "cell_type": "code",
   "execution_count": 21,
   "metadata": {},
   "outputs": [
    {
     "name": "stdout",
     "output_type": "stream",
     "text": [
      "  StringColumn  NumberColumn DateColumn  FloatColumn\n",
      "0        Apple            10 2022-01-01     0.828996\n",
      "1       Banana            20 2022-01-02     0.563440\n",
      "2       Orange            30 2022-01-03     0.728441\n",
      "3        Grape            40 2022-01-04     0.866949\n",
      "4        Mango            50 2022-01-05     0.642802\n"
     ]
    }
   ],
   "source": [
    "import pandas as pd\n",
    "import numpy as np\n",
    "\n",
    "data = {\n",
    "    'StringColumn': ['Apple', 'Banana', 'Orange', 'Grape', 'Mango'],\n",
    "    'NumberColumn': [10, 20, 30, 40, 50],\n",
    "    'DateColumn': pd.date_range('2022-01-01', periods=5),\n",
    "    'FloatColumn': np.random.rand(5)\n",
    "}\n",
    "\n",
    "df = pd.DataFrame(data)\n",
    "\n",
    "print(df)"
   ]
  },
  {
   "cell_type": "code",
   "execution_count": 22,
   "metadata": {},
   "outputs": [],
   "source": [
    "hash_df = df.apply(lambda x: hashlib.md5(str(x).encode()).hexdigest()[:12], axis=1)"
   ]
  },
  {
   "cell_type": "code",
   "execution_count": 23,
   "metadata": {},
   "outputs": [],
   "source": [
    "index_name = 'Id'"
   ]
  },
  {
   "cell_type": "code",
   "execution_count": 24,
   "metadata": {},
   "outputs": [
    {
     "data": {
      "text/plain": [
       "0    088de8664e06\n",
       "1    4142b055df24\n",
       "2    e666164d2f7e\n",
       "3    70da82fa2cb0\n",
       "4    8f983dd3b71d\n",
       "dtype: object"
      ]
     },
     "execution_count": 24,
     "metadata": {},
     "output_type": "execute_result"
    }
   ],
   "source": [
    "hash_df"
   ]
  },
  {
   "cell_type": "code",
   "execution_count": 25,
   "metadata": {},
   "outputs": [],
   "source": [
    "df[index_name] = hash_df"
   ]
  },
  {
   "cell_type": "code",
   "execution_count": 26,
   "metadata": {},
   "outputs": [
    {
     "data": {
      "text/html": [
       "<div>\n",
       "<style scoped>\n",
       "    .dataframe tbody tr th:only-of-type {\n",
       "        vertical-align: middle;\n",
       "    }\n",
       "\n",
       "    .dataframe tbody tr th {\n",
       "        vertical-align: top;\n",
       "    }\n",
       "\n",
       "    .dataframe thead th {\n",
       "        text-align: right;\n",
       "    }\n",
       "</style>\n",
       "<table border=\"1\" class=\"dataframe\">\n",
       "  <thead>\n",
       "    <tr style=\"text-align: right;\">\n",
       "      <th></th>\n",
       "      <th>StringColumn</th>\n",
       "      <th>NumberColumn</th>\n",
       "      <th>DateColumn</th>\n",
       "      <th>FloatColumn</th>\n",
       "      <th>Id</th>\n",
       "    </tr>\n",
       "  </thead>\n",
       "  <tbody>\n",
       "    <tr>\n",
       "      <th>0</th>\n",
       "      <td>Apple</td>\n",
       "      <td>10</td>\n",
       "      <td>2022-01-01</td>\n",
       "      <td>0.828996</td>\n",
       "      <td>088de8664e06</td>\n",
       "    </tr>\n",
       "    <tr>\n",
       "      <th>1</th>\n",
       "      <td>Banana</td>\n",
       "      <td>20</td>\n",
       "      <td>2022-01-02</td>\n",
       "      <td>0.563440</td>\n",
       "      <td>4142b055df24</td>\n",
       "    </tr>\n",
       "    <tr>\n",
       "      <th>2</th>\n",
       "      <td>Orange</td>\n",
       "      <td>30</td>\n",
       "      <td>2022-01-03</td>\n",
       "      <td>0.728441</td>\n",
       "      <td>e666164d2f7e</td>\n",
       "    </tr>\n",
       "    <tr>\n",
       "      <th>3</th>\n",
       "      <td>Grape</td>\n",
       "      <td>40</td>\n",
       "      <td>2022-01-04</td>\n",
       "      <td>0.866949</td>\n",
       "      <td>70da82fa2cb0</td>\n",
       "    </tr>\n",
       "    <tr>\n",
       "      <th>4</th>\n",
       "      <td>Mango</td>\n",
       "      <td>50</td>\n",
       "      <td>2022-01-05</td>\n",
       "      <td>0.642802</td>\n",
       "      <td>8f983dd3b71d</td>\n",
       "    </tr>\n",
       "  </tbody>\n",
       "</table>\n",
       "</div>"
      ],
      "text/plain": [
       "  StringColumn  NumberColumn DateColumn  FloatColumn            Id\n",
       "0        Apple            10 2022-01-01     0.828996  088de8664e06\n",
       "1       Banana            20 2022-01-02     0.563440  4142b055df24\n",
       "2       Orange            30 2022-01-03     0.728441  e666164d2f7e\n",
       "3        Grape            40 2022-01-04     0.866949  70da82fa2cb0\n",
       "4        Mango            50 2022-01-05     0.642802  8f983dd3b71d"
      ]
     },
     "execution_count": 26,
     "metadata": {},
     "output_type": "execute_result"
    }
   ],
   "source": [
    "df"
   ]
  },
  {
   "cell_type": "code",
   "execution_count": 27,
   "metadata": {},
   "outputs": [
    {
     "data": {
      "text/plain": [
       "['Id', 'StringColumn', 'NumberColumn', 'DateColumn', 'FloatColumn']"
      ]
     },
     "execution_count": 27,
     "metadata": {},
     "output_type": "execute_result"
    }
   ],
   "source": [
    "xcolumns = [index_name, *[c for c in df.columns if c != index_name]]\n",
    "xcolumns"
   ]
  },
  {
   "cell_type": "code",
   "execution_count": 29,
   "metadata": {},
   "outputs": [],
   "source": [
    "df = df[xcolumns].copy()"
   ]
  },
  {
   "cell_type": "code",
   "execution_count": 30,
   "metadata": {},
   "outputs": [
    {
     "data": {
      "text/html": [
       "<div>\n",
       "<style scoped>\n",
       "    .dataframe tbody tr th:only-of-type {\n",
       "        vertical-align: middle;\n",
       "    }\n",
       "\n",
       "    .dataframe tbody tr th {\n",
       "        vertical-align: top;\n",
       "    }\n",
       "\n",
       "    .dataframe thead th {\n",
       "        text-align: right;\n",
       "    }\n",
       "</style>\n",
       "<table border=\"1\" class=\"dataframe\">\n",
       "  <thead>\n",
       "    <tr style=\"text-align: right;\">\n",
       "      <th></th>\n",
       "      <th>Id</th>\n",
       "      <th>StringColumn</th>\n",
       "      <th>NumberColumn</th>\n",
       "      <th>DateColumn</th>\n",
       "      <th>FloatColumn</th>\n",
       "    </tr>\n",
       "  </thead>\n",
       "  <tbody>\n",
       "    <tr>\n",
       "      <th>0</th>\n",
       "      <td>088de8664e06</td>\n",
       "      <td>Apple</td>\n",
       "      <td>10</td>\n",
       "      <td>2022-01-01</td>\n",
       "      <td>0.828996</td>\n",
       "    </tr>\n",
       "    <tr>\n",
       "      <th>1</th>\n",
       "      <td>4142b055df24</td>\n",
       "      <td>Banana</td>\n",
       "      <td>20</td>\n",
       "      <td>2022-01-02</td>\n",
       "      <td>0.563440</td>\n",
       "    </tr>\n",
       "    <tr>\n",
       "      <th>2</th>\n",
       "      <td>e666164d2f7e</td>\n",
       "      <td>Orange</td>\n",
       "      <td>30</td>\n",
       "      <td>2022-01-03</td>\n",
       "      <td>0.728441</td>\n",
       "    </tr>\n",
       "    <tr>\n",
       "      <th>3</th>\n",
       "      <td>70da82fa2cb0</td>\n",
       "      <td>Grape</td>\n",
       "      <td>40</td>\n",
       "      <td>2022-01-04</td>\n",
       "      <td>0.866949</td>\n",
       "    </tr>\n",
       "    <tr>\n",
       "      <th>4</th>\n",
       "      <td>8f983dd3b71d</td>\n",
       "      <td>Mango</td>\n",
       "      <td>50</td>\n",
       "      <td>2022-01-05</td>\n",
       "      <td>0.642802</td>\n",
       "    </tr>\n",
       "  </tbody>\n",
       "</table>\n",
       "</div>"
      ],
      "text/plain": [
       "             Id StringColumn  NumberColumn DateColumn  FloatColumn\n",
       "0  088de8664e06        Apple            10 2022-01-01     0.828996\n",
       "1  4142b055df24       Banana            20 2022-01-02     0.563440\n",
       "2  e666164d2f7e       Orange            30 2022-01-03     0.728441\n",
       "3  70da82fa2cb0        Grape            40 2022-01-04     0.866949\n",
       "4  8f983dd3b71d        Mango            50 2022-01-05     0.642802"
      ]
     },
     "execution_count": 30,
     "metadata": {},
     "output_type": "execute_result"
    }
   ],
   "source": [
    "df"
   ]
  },
  {
   "cell_type": "code",
   "execution_count": null,
   "metadata": {},
   "outputs": [],
   "source": []
  }
 ],
 "metadata": {
  "kernelspec": {
   "display_name": "fbpyutils-IGl4-GRW",
   "language": "python",
   "name": "python3"
  },
  "language_info": {
   "codemirror_mode": {
    "name": "ipython",
    "version": 3
   },
   "file_extension": ".py",
   "mimetype": "text/x-python",
   "name": "python",
   "nbconvert_exporter": "python",
   "pygments_lexer": "ipython3",
   "version": "3.10.12"
  },
  "vscode": {
   "interpreter": {
    "hash": "6751960e02e7689ae8a83e1c4c6124a19ee8037fb487a081cd43822d590c0ed2"
   }
  }
 },
 "nbformat": 4,
 "nbformat_minor": 4
}
