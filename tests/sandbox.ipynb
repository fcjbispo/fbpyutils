{
 "cells": [
  {
   "cell_type": "code",
   "execution_count": null,
   "metadata": {},
   "outputs": [
    {
     "ename": "",
     "evalue": "",
     "output_type": "error",
     "traceback": [
      "\u001b[1;31mA execução de células com '.venv' requer o pacote ipykernel.\n",
      "\u001b[1;31mExecute o seguinte comando para instalar \"ipykernel\" no ambiente do Python. \n",
      "\u001b[1;31mComando: \"d:/Repos/fbpyutils/.venv/Scripts/python.exe -m pip install ipykernel -U --force-reinstall\""
     ]
    }
   ],
   "source": [
    "import os\n",
    "import asyncio\n",
    "\n",
    "async def run_process(cmd):\n",
    "  print('>>> starting', *cmd)\n",
    "  p = await asyncio.subprocess.create_subprocess_exec(\n",
    "      *cmd,\n",
    "      stdout=asyncio.subprocess.PIPE,\n",
    "      stderr=asyncio.subprocess.PIPE,\n",
    "  )\n",
    "\n",
    "  async def pipe(lines):\n",
    "    async for line in lines:\n",
    "      print(line.strip().decode('utf-8'))\n",
    "\n",
    "  await asyncio.gather(\n",
    "      pipe(p.stdout),\n",
    "      pipe(p.stderr),\n",
    "  )"
   ]
  },
  {
   "cell_type": "code",
   "execution_count": null,
   "metadata": {},
   "outputs": [],
   "source": [
    "# #register an account at ngrok.com and create an authtoken and place it here\n",
    "# await asyncio.gather(\n",
    "#     run_process(['ngrok', 'config', 'add-authtoken','2clxYizDjD85qMJyCvTK06FPit2_7HW3FyD53n6M6mHcCAapk'])\n",
    "# )\n",
    "\n",
    "# await asyncio.gather(\n",
    "#     run_process(['ollama', 'serve']),\n",
    "#     run_process(['ngrok', 'http', '--log', 'stderr', '11434']),\n",
    "#     # run_process(['ngrok', 'http', '--log', 'stderr', '--domain', 'renewed-shark-pro.ngrok-free.app', '11434']),\n",
    "# )"
   ]
  }
 ],
 "metadata": {
  "kernelspec": {
   "display_name": "fbpyutils-IGl4-GRW",
   "language": "python",
   "name": "python3"
  },
  "language_info": {
   "codemirror_mode": {
    "name": "ipython",
    "version": 3
   },
   "file_extension": ".py",
   "mimetype": "text/x-python",
   "name": "python",
   "nbconvert_exporter": "python",
   "pygments_lexer": "ipython3",
   "version": "3.10.11"
  },
  "vscode": {
   "interpreter": {
    "hash": "6751960e02e7689ae8a83e1c4c6124a19ee8037fb487a081cd43822d590c0ed2"
   }
  }
 },
 "nbformat": 4,
 "nbformat_minor": 4
}
