{
 "cells": [
  {
   "cell_type": "code",
   "execution_count": 11,
   "metadata": {},
   "outputs": [],
   "source": [
    "import os, sys\n",
    "sys.path.insert(0, '..')"
   ]
  },
  {
   "cell_type": "code",
   "execution_count": 12,
   "metadata": {},
   "outputs": [],
   "source": [
    "from fbpyutils import xlsx as XL, db as DB, ofx as OFX\n",
    "import pandas as pd"
   ]
  },
  {
   "cell_type": "code",
   "execution_count": 19,
   "metadata": {},
   "outputs": [
    {
     "data": {
      "text/plain": [
       "'2.0.3'"
      ]
     },
     "execution_count": 19,
     "metadata": {},
     "output_type": "execute_result"
    }
   ],
   "source": [
    "pd.__version__"
   ]
  },
  {
   "cell_type": "code",
   "execution_count": 13,
   "metadata": {},
   "outputs": [],
   "source": [
    "from fbpyutils.finance import cvm as C"
   ]
  },
  {
   "cell_type": "code",
   "execution_count": 14,
   "metadata": {},
   "outputs": [],
   "source": [
    "cvm_history_folder = '/home/fcjbispo/Dados/InfoBR/Series/cvm'"
   ]
  },
  {
   "cell_type": "code",
   "execution_count": 15,
   "metadata": {},
   "outputs": [],
   "source": [
    "cvm = C.CVM(history_folder=cvm_history_folder)"
   ]
  },
  {
   "cell_type": "code",
   "execution_count": 16,
   "metadata": {},
   "outputs": [
    {
     "data": {
      "text/plain": [
       "'/home/fcjbispo/Dados/InfoBR/Series/cvm'"
      ]
     },
     "execution_count": 16,
     "metadata": {},
     "output_type": "execute_result"
    }
   ],
   "source": [
    "cvm.HISTORY_FOLDER"
   ]
  },
  {
   "cell_type": "code",
   "execution_count": 17,
   "metadata": {},
   "outputs": [
    {
     "data": {
      "text/html": [
       "<div>\n",
       "<style scoped>\n",
       "    .dataframe tbody tr th:only-of-type {\n",
       "        vertical-align: middle;\n",
       "    }\n",
       "\n",
       "    .dataframe tbody tr th {\n",
       "        vertical-align: top;\n",
       "    }\n",
       "\n",
       "    .dataframe thead th {\n",
       "        text-align: right;\n",
       "    }\n",
       "</style>\n",
       "<table border=\"1\" class=\"dataframe\">\n",
       "  <thead>\n",
       "    <tr style=\"text-align: right;\">\n",
       "      <th></th>\n",
       "      <th>sequence</th>\n",
       "      <th>href</th>\n",
       "      <th>name</th>\n",
       "      <th>last_modified</th>\n",
       "      <th>size</th>\n",
       "      <th>history</th>\n",
       "      <th>url</th>\n",
       "      <th>kind</th>\n",
       "      <th>last_download</th>\n",
       "      <th>last_updated</th>\n",
       "      <th>process</th>\n",
       "      <th>active</th>\n",
       "    </tr>\n",
       "  </thead>\n",
       "  <tbody>\n",
       "    <tr>\n",
       "      <th>0</th>\n",
       "      <td>1</td>\n",
       "      <td>inf_cadastral_fi_2017.zip</td>\n",
       "      <td>inf_cadastral_fi_2017</td>\n",
       "      <td>2020-08-01 01:34:00</td>\n",
       "      <td>184.0</td>\n",
       "      <td>1</td>\n",
       "      <td>http://dados.cvm.gov.br/dados/FI/CAD/DADOS/HIS...</td>\n",
       "      <td>IF_REGISTER</td>\n",
       "      <td>None</td>\n",
       "      <td>None</td>\n",
       "      <td>1</td>\n",
       "      <td>1.0</td>\n",
       "    </tr>\n",
       "    <tr>\n",
       "      <th>1</th>\n",
       "      <td>1</td>\n",
       "      <td>inf_diario_fi_2000.zip</td>\n",
       "      <td>inf_diario_fi_2000</td>\n",
       "      <td>2022-11-11 17:57:00</td>\n",
       "      <td>3513.0</td>\n",
       "      <td>1</td>\n",
       "      <td>http://dados.cvm.gov.br/dados/FI/DOC/INF_DIARI...</td>\n",
       "      <td>IF_POSITION</td>\n",
       "      <td>None</td>\n",
       "      <td>None</td>\n",
       "      <td>1</td>\n",
       "      <td>1.0</td>\n",
       "    </tr>\n",
       "    <tr>\n",
       "      <th>2</th>\n",
       "      <td>2</td>\n",
       "      <td>cad_fi.csv</td>\n",
       "      <td>cad_fi</td>\n",
       "      <td>2023-09-09 09:36:00</td>\n",
       "      <td>34.0</td>\n",
       "      <td>0</td>\n",
       "      <td>http://dados.cvm.gov.br/dados/FI/CAD/DADOS/cad...</td>\n",
       "      <td>IF_REGISTER</td>\n",
       "      <td>None</td>\n",
       "      <td>None</td>\n",
       "      <td>1</td>\n",
       "      <td>1.0</td>\n",
       "    </tr>\n",
       "    <tr>\n",
       "      <th>3</th>\n",
       "      <td>2</td>\n",
       "      <td>inf_cadastral_fi_2018.zip</td>\n",
       "      <td>inf_cadastral_fi_2018</td>\n",
       "      <td>2020-08-01 01:42:00</td>\n",
       "      <td>409.0</td>\n",
       "      <td>1</td>\n",
       "      <td>http://dados.cvm.gov.br/dados/FI/CAD/DADOS/HIS...</td>\n",
       "      <td>IF_REGISTER</td>\n",
       "      <td>None</td>\n",
       "      <td>None</td>\n",
       "      <td>1</td>\n",
       "      <td>1.0</td>\n",
       "    </tr>\n",
       "    <tr>\n",
       "      <th>4</th>\n",
       "      <td>2</td>\n",
       "      <td>inf_diario_fi_2001.zip</td>\n",
       "      <td>inf_diario_fi_2001</td>\n",
       "      <td>2022-11-11 18:30:00</td>\n",
       "      <td>3477.0</td>\n",
       "      <td>1</td>\n",
       "      <td>http://dados.cvm.gov.br/dados/FI/DOC/INF_DIARI...</td>\n",
       "      <td>IF_POSITION</td>\n",
       "      <td>None</td>\n",
       "      <td>None</td>\n",
       "      <td>1</td>\n",
       "      <td>1.0</td>\n",
       "    </tr>\n",
       "    <tr>\n",
       "      <th>...</th>\n",
       "      <td>...</td>\n",
       "      <td>...</td>\n",
       "      <td>...</td>\n",
       "      <td>...</td>\n",
       "      <td>...</td>\n",
       "      <td>...</td>\n",
       "      <td>...</td>\n",
       "      <td>...</td>\n",
       "      <td>...</td>\n",
       "      <td>...</td>\n",
       "      <td>...</td>\n",
       "      <td>...</td>\n",
       "    </tr>\n",
       "    <tr>\n",
       "      <th>56</th>\n",
       "      <td>30</td>\n",
       "      <td>inf_diario_fi_202305.zip</td>\n",
       "      <td>inf_diario_fi_202305</td>\n",
       "      <td>2023-09-10 12:31:00</td>\n",
       "      <td>11.0</td>\n",
       "      <td>0</td>\n",
       "      <td>http://dados.cvm.gov.br/dados/FI/DOC/INF_DIARI...</td>\n",
       "      <td>IF_POSITION</td>\n",
       "      <td>None</td>\n",
       "      <td>None</td>\n",
       "      <td>1</td>\n",
       "      <td>1.0</td>\n",
       "    </tr>\n",
       "    <tr>\n",
       "      <th>57</th>\n",
       "      <td>31</td>\n",
       "      <td>inf_diario_fi_202306.zip</td>\n",
       "      <td>inf_diario_fi_202306</td>\n",
       "      <td>2023-09-10 12:27:00</td>\n",
       "      <td>10.0</td>\n",
       "      <td>0</td>\n",
       "      <td>http://dados.cvm.gov.br/dados/FI/DOC/INF_DIARI...</td>\n",
       "      <td>IF_POSITION</td>\n",
       "      <td>None</td>\n",
       "      <td>None</td>\n",
       "      <td>1</td>\n",
       "      <td>1.0</td>\n",
       "    </tr>\n",
       "    <tr>\n",
       "      <th>58</th>\n",
       "      <td>32</td>\n",
       "      <td>inf_diario_fi_202307.zip</td>\n",
       "      <td>inf_diario_fi_202307</td>\n",
       "      <td>2023-09-10 12:23:00</td>\n",
       "      <td>10.0</td>\n",
       "      <td>0</td>\n",
       "      <td>http://dados.cvm.gov.br/dados/FI/DOC/INF_DIARI...</td>\n",
       "      <td>IF_POSITION</td>\n",
       "      <td>None</td>\n",
       "      <td>None</td>\n",
       "      <td>1</td>\n",
       "      <td>1.0</td>\n",
       "    </tr>\n",
       "    <tr>\n",
       "      <th>59</th>\n",
       "      <td>33</td>\n",
       "      <td>inf_diario_fi_202308.zip</td>\n",
       "      <td>inf_diario_fi_202308</td>\n",
       "      <td>2023-09-09 09:46:00</td>\n",
       "      <td>11.0</td>\n",
       "      <td>0</td>\n",
       "      <td>http://dados.cvm.gov.br/dados/FI/DOC/INF_DIARI...</td>\n",
       "      <td>IF_POSITION</td>\n",
       "      <td>None</td>\n",
       "      <td>None</td>\n",
       "      <td>1</td>\n",
       "      <td>1.0</td>\n",
       "    </tr>\n",
       "    <tr>\n",
       "      <th>60</th>\n",
       "      <td>34</td>\n",
       "      <td>inf_diario_fi_202309.zip</td>\n",
       "      <td>inf_diario_fi_202309</td>\n",
       "      <td>2023-09-09 09:42:00</td>\n",
       "      <td>2.0</td>\n",
       "      <td>0</td>\n",
       "      <td>http://dados.cvm.gov.br/dados/FI/DOC/INF_DIARI...</td>\n",
       "      <td>IF_POSITION</td>\n",
       "      <td>None</td>\n",
       "      <td>None</td>\n",
       "      <td>1</td>\n",
       "      <td>1.0</td>\n",
       "    </tr>\n",
       "  </tbody>\n",
       "</table>\n",
       "<p>61 rows × 12 columns</p>\n",
       "</div>"
      ],
      "text/plain": [
       "    sequence                       href                   name  \\\n",
       "0          1  inf_cadastral_fi_2017.zip  inf_cadastral_fi_2017   \n",
       "1          1     inf_diario_fi_2000.zip     inf_diario_fi_2000   \n",
       "2          2                 cad_fi.csv                 cad_fi   \n",
       "3          2  inf_cadastral_fi_2018.zip  inf_cadastral_fi_2018   \n",
       "4          2     inf_diario_fi_2001.zip     inf_diario_fi_2001   \n",
       "..       ...                        ...                    ...   \n",
       "56        30   inf_diario_fi_202305.zip   inf_diario_fi_202305   \n",
       "57        31   inf_diario_fi_202306.zip   inf_diario_fi_202306   \n",
       "58        32   inf_diario_fi_202307.zip   inf_diario_fi_202307   \n",
       "59        33   inf_diario_fi_202308.zip   inf_diario_fi_202308   \n",
       "60        34   inf_diario_fi_202309.zip   inf_diario_fi_202309   \n",
       "\n",
       "          last_modified    size  history  \\\n",
       "0   2020-08-01 01:34:00   184.0        1   \n",
       "1   2022-11-11 17:57:00  3513.0        1   \n",
       "2   2023-09-09 09:36:00    34.0        0   \n",
       "3   2020-08-01 01:42:00   409.0        1   \n",
       "4   2022-11-11 18:30:00  3477.0        1   \n",
       "..                  ...     ...      ...   \n",
       "56  2023-09-10 12:31:00    11.0        0   \n",
       "57  2023-09-10 12:27:00    10.0        0   \n",
       "58  2023-09-10 12:23:00    10.0        0   \n",
       "59  2023-09-09 09:46:00    11.0        0   \n",
       "60  2023-09-09 09:42:00     2.0        0   \n",
       "\n",
       "                                                  url         kind  \\\n",
       "0   http://dados.cvm.gov.br/dados/FI/CAD/DADOS/HIS...  IF_REGISTER   \n",
       "1   http://dados.cvm.gov.br/dados/FI/DOC/INF_DIARI...  IF_POSITION   \n",
       "2   http://dados.cvm.gov.br/dados/FI/CAD/DADOS/cad...  IF_REGISTER   \n",
       "3   http://dados.cvm.gov.br/dados/FI/CAD/DADOS/HIS...  IF_REGISTER   \n",
       "4   http://dados.cvm.gov.br/dados/FI/DOC/INF_DIARI...  IF_POSITION   \n",
       "..                                                ...          ...   \n",
       "56  http://dados.cvm.gov.br/dados/FI/DOC/INF_DIARI...  IF_POSITION   \n",
       "57  http://dados.cvm.gov.br/dados/FI/DOC/INF_DIARI...  IF_POSITION   \n",
       "58  http://dados.cvm.gov.br/dados/FI/DOC/INF_DIARI...  IF_POSITION   \n",
       "59  http://dados.cvm.gov.br/dados/FI/DOC/INF_DIARI...  IF_POSITION   \n",
       "60  http://dados.cvm.gov.br/dados/FI/DOC/INF_DIARI...  IF_POSITION   \n",
       "\n",
       "   last_download last_updated  process  active  \n",
       "0           None         None        1     1.0  \n",
       "1           None         None        1     1.0  \n",
       "2           None         None        1     1.0  \n",
       "3           None         None        1     1.0  \n",
       "4           None         None        1     1.0  \n",
       "..           ...          ...      ...     ...  \n",
       "56          None         None        1     1.0  \n",
       "57          None         None        1     1.0  \n",
       "58          None         None        1     1.0  \n",
       "59          None         None        1     1.0  \n",
       "60          None         None        1     1.0  \n",
       "\n",
       "[61 rows x 12 columns]"
      ]
     },
     "execution_count": 17,
     "metadata": {},
     "output_type": "execute_result"
    }
   ],
   "source": [
    "pd.read_sql(f'''\n",
    "select *\n",
    "  from {cvm.CATALOG_JOURNAL}\n",
    "''', con=cvm.CATALOG)"
   ]
  },
  {
   "cell_type": "code",
   "execution_count": 18,
   "metadata": {},
   "outputs": [
    {
     "ename": "ValueError",
     "evalue": "Fail to UPDATE history files on step SETTING UP CATALOG JOURNAL AND RETURN METADATA: Execution failed on sql '\n                select r.sequence, \n                    r.href, \n                    r.name, \n                    r.last_modified, \n                    r.size, \n                    r.history, \n                    r.url,\n                    r.kind,\n                    NULL last_download,\n                    NULL last_updated,\n                    1 process,\n                    1 active\n                from catalog_journal c\n                full outer join if_remote_files r \n                using (href, name, kind)\n                where c.sequence is null\n                union\n                select c.sequence, \n                    c.href, \n                    c.name, \n                    c.last_modified, \n                    c.size, \n                    c.history, \n                    c.url,\n                    c.kind,\n                    c.last_download,\n                    c.last_updated,\n                    0 process,\n                    0 active\n                from catalog_journal c\n                full outer join if_remote_files r \n                using (href, name, kind)\n                where r.sequence is null\n                union\n                select r.sequence, \n                    r.href, \n                    r.name, \n                    r.last_modified, \n                    r.size, \n                    r.history, \n                    r.url,\n                    r.kind,\n                    c.last_download,\n                    c.last_updated,\n                    case \n                        when r.last_modified is null then 0\n                        when c.last_download is null then 1\n                        when r.last_modified > c.last_download then 1 \n                        else 0 \n                    end process,\n                    c.active\n                from catalog_journal c\n                full outer join if_remote_files r \n                using (href, name, kind)\n                where r.sequence is not null\n            ': RIGHT and FULL OUTER JOINs are not currently supported (Execution failed on sql '\n                select r.sequence, \n                    r.href, \n                    r.name, \n                    r.last_modified, \n                    r.size, \n                    r.history, \n                    r.url,\n                    r.kind,\n                    NULL last_download,\n                    NULL last_updated,\n                    1 process,\n                    1 active\n                from catalog_journal c\n                full outer join if_remote_files r \n                using (href, name, kind)\n                where c.sequence is null\n                union\n                select c.sequence, \n                    c.href, \n                    c.name, \n                    c.last_modified, \n                    c.size, \n                    c.history, \n                    c.url,\n                    c.kind,\n                    c.last_download,\n                    c.last_updated,\n                    0 process,\n                    0 active\n                from catalog_journal c\n                full outer join if_remote_files r \n                using (href, name, kind)\n                where r.sequence is null\n                union\n                select r.sequence, \n                    r.href, \n                    r.name, \n                    r.last_modified, \n                    r.size, \n                    r.history, \n                    r.url,\n                    r.kind,\n                    c.last_download,\n                    c.last_updated,\n                    case \n                        when r.last_modified is null then 0\n                        when c.last_download is null then 1\n                        when r.last_modified > c.last_download then 1 \n                        else 0 \n                    end process,\n                    c.active\n                from catalog_journal c\n                full outer join if_remote_files r \n                using (href, name, kind)\n                where r.sequence is not null\n            ': RIGHT and FULL OUTER JOINs are not currently supported: Traceback (most recent call last):\n  File \"/home/fcjbispo/.local/share/virtualenvs/fbpyutils-K6fBYxhj/lib/python3.10/site-packages/pandas/io/sql.py\", line 2202, in execute\n    dtype = cast(dict, dtype)\nsqlite3.OperationalError: RIGHT and FULL OUTER JOINs are not currently supported\n\nThe above exception was the direct cause of the following exception:\n\nTraceback (most recent call last):\n  File \"/mnt/c/Users/fcjbispo/Projetos/fbpyutils/tests/../fbpyutils/finance/cvm/__init__.py\", line 1150, in update_cvm_catalog\n    catalog_journal_df = pd.read_sql(\"\"\"\n  File \"/home/fcjbispo/.local/share/virtualenvs/fbpyutils-K6fBYxhj/lib/python3.10/site-packages/pandas/io/sql.py\", line 635, in read_sql\n    The ``parse_dates`` argument calls ``pd.to_datetime`` on the provided columns.\n  File \"/home/fcjbispo/.local/share/virtualenvs/fbpyutils-K6fBYxhj/lib/python3.10/site-packages/pandas/io/sql.py\", line 2266, in read_query\n    cur.execute(sql, *args)\n  File \"/home/fcjbispo/.local/share/virtualenvs/fbpyutils-K6fBYxhj/lib/python3.10/site-packages/pandas/io/sql.py\", line 2214, in execute\n    UserWarning,\npandas.errors.DatabaseError: Execution failed on sql '\n                select r.sequence, \n                    r.href, \n                    r.name, \n                    r.last_modified, \n                    r.size, \n                    r.history, \n                    r.url,\n                    r.kind,\n                    NULL last_download,\n                    NULL last_updated,\n                    1 process,\n                    1 active\n                from catalog_journal c\n                full outer join if_remote_files r \n                using (href, name, kind)\n                where c.sequence is null\n                union\n                select c.sequence, \n                    c.href, \n                    c.name, \n                    c.last_modified, \n                    c.size, \n                    c.history, \n                    c.url,\n                    c.kind,\n                    c.last_download,\n                    c.last_updated,\n                    0 process,\n                    0 active\n                from catalog_journal c\n                full outer join if_remote_files r \n                using (href, name, kind)\n                where r.sequence is null\n                union\n                select r.sequence, \n                    r.href, \n                    r.name, \n                    r.last_modified, \n                    r.size, \n                    r.history, \n                    r.url,\n                    r.kind,\n                    c.last_download,\n                    c.last_updated,\n                    case \n                        when r.last_modified is null then 0\n                        when c.last_download is null then 1\n                        when r.last_modified > c.last_download then 1 \n                        else 0 \n                    end process,\n                    c.active\n                from catalog_journal c\n                full outer join if_remote_files r \n                using (href, name, kind)\n                where r.sequence is not null\n            ': RIGHT and FULL OUTER JOINs are not currently supported\n.)",
     "output_type": "error",
     "traceback": [
      "\u001b[0;31m---------------------------------------------------------------------------\u001b[0m",
      "\u001b[0;31mOperationalError\u001b[0m                          Traceback (most recent call last)",
      "File \u001b[0;32m~/.local/share/virtualenvs/fbpyutils-K6fBYxhj/lib/python3.10/site-packages/pandas/io/sql.py:2202\u001b[0m, in \u001b[0;36mSQLiteDatabase.execute\u001b[0;34m(self, sql, params)\u001b[0m\n\u001b[1;32m   2201\u001b[0m \u001b[39mtry\u001b[39;00m:\n\u001b[0;32m-> 2202\u001b[0m     cur\u001b[39m.\u001b[39;49mexecute(sql, \u001b[39m*\u001b[39;49margs)\n\u001b[1;32m   2203\u001b[0m     \u001b[39mreturn\u001b[39;00m cur\n",
      "\u001b[0;31mOperationalError\u001b[0m: RIGHT and FULL OUTER JOINs are not currently supported",
      "\nThe above exception was the direct cause of the following exception:\n",
      "\u001b[0;31mDatabaseError\u001b[0m                             Traceback (most recent call last)",
      "File \u001b[0;32m/mnt/c/Users/fcjbispo/Projetos/fbpyutils/tests/../fbpyutils/finance/cvm/__init__.py:1150\u001b[0m, in \u001b[0;36mCVM.update_cvm_catalog\u001b[0;34m(self)\u001b[0m\n\u001b[1;32m   1147\u001b[0m catalog_journal_df\u001b[39m.\u001b[39mto_sql(\n\u001b[1;32m   1148\u001b[0m     \u001b[39m'\u001b[39m\u001b[39mcatalog_journal\u001b[39m\u001b[39m'\u001b[39m, index\u001b[39m=\u001b[39m\u001b[39mFalse\u001b[39;00m, con\u001b[39m=\u001b[39mSTAGE, if_exists\u001b[39m=\u001b[39m\u001b[39m'\u001b[39m\u001b[39mreplace\u001b[39m\u001b[39m'\u001b[39m)\n\u001b[0;32m-> 1150\u001b[0m catalog_journal_df \u001b[39m=\u001b[39m pd\u001b[39m.\u001b[39;49mread_sql(\u001b[39m\"\"\"\u001b[39;49m\n\u001b[1;32m   1151\u001b[0m \u001b[39m    select r.sequence, \u001b[39;49m\n\u001b[1;32m   1152\u001b[0m \u001b[39m        r.href, \u001b[39;49m\n\u001b[1;32m   1153\u001b[0m \u001b[39m        r.name, \u001b[39;49m\n\u001b[1;32m   1154\u001b[0m \u001b[39m        r.last_modified, \u001b[39;49m\n\u001b[1;32m   1155\u001b[0m \u001b[39m        r.size, \u001b[39;49m\n\u001b[1;32m   1156\u001b[0m \u001b[39m        r.history, \u001b[39;49m\n\u001b[1;32m   1157\u001b[0m \u001b[39m        r.url,\u001b[39;49m\n\u001b[1;32m   1158\u001b[0m \u001b[39m        r.kind,\u001b[39;49m\n\u001b[1;32m   1159\u001b[0m \u001b[39m        NULL last_download,\u001b[39;49m\n\u001b[1;32m   1160\u001b[0m \u001b[39m        NULL last_updated,\u001b[39;49m\n\u001b[1;32m   1161\u001b[0m \u001b[39m        1 process,\u001b[39;49m\n\u001b[1;32m   1162\u001b[0m \u001b[39m        1 active\u001b[39;49m\n\u001b[1;32m   1163\u001b[0m \u001b[39m    from catalog_journal c\u001b[39;49m\n\u001b[1;32m   1164\u001b[0m \u001b[39m    full outer join if_remote_files r \u001b[39;49m\n\u001b[1;32m   1165\u001b[0m \u001b[39m    using (href, name, kind)\u001b[39;49m\n\u001b[1;32m   1166\u001b[0m \u001b[39m    where c.sequence is null\u001b[39;49m\n\u001b[1;32m   1167\u001b[0m \u001b[39m    union\u001b[39;49m\n\u001b[1;32m   1168\u001b[0m \u001b[39m    select c.sequence, \u001b[39;49m\n\u001b[1;32m   1169\u001b[0m \u001b[39m        c.href, \u001b[39;49m\n\u001b[1;32m   1170\u001b[0m \u001b[39m        c.name, \u001b[39;49m\n\u001b[1;32m   1171\u001b[0m \u001b[39m        c.last_modified, \u001b[39;49m\n\u001b[1;32m   1172\u001b[0m \u001b[39m        c.size, \u001b[39;49m\n\u001b[1;32m   1173\u001b[0m \u001b[39m        c.history, \u001b[39;49m\n\u001b[1;32m   1174\u001b[0m \u001b[39m        c.url,\u001b[39;49m\n\u001b[1;32m   1175\u001b[0m \u001b[39m        c.kind,\u001b[39;49m\n\u001b[1;32m   1176\u001b[0m \u001b[39m        c.last_download,\u001b[39;49m\n\u001b[1;32m   1177\u001b[0m \u001b[39m        c.last_updated,\u001b[39;49m\n\u001b[1;32m   1178\u001b[0m \u001b[39m        0 process,\u001b[39;49m\n\u001b[1;32m   1179\u001b[0m \u001b[39m        0 active\u001b[39;49m\n\u001b[1;32m   1180\u001b[0m \u001b[39m    from catalog_journal c\u001b[39;49m\n\u001b[1;32m   1181\u001b[0m \u001b[39m    full outer join if_remote_files r \u001b[39;49m\n\u001b[1;32m   1182\u001b[0m \u001b[39m    using (href, name, kind)\u001b[39;49m\n\u001b[1;32m   1183\u001b[0m \u001b[39m    where r.sequence is null\u001b[39;49m\n\u001b[1;32m   1184\u001b[0m \u001b[39m    union\u001b[39;49m\n\u001b[1;32m   1185\u001b[0m \u001b[39m    select r.sequence, \u001b[39;49m\n\u001b[1;32m   1186\u001b[0m \u001b[39m        r.href, \u001b[39;49m\n\u001b[1;32m   1187\u001b[0m \u001b[39m        r.name, \u001b[39;49m\n\u001b[1;32m   1188\u001b[0m \u001b[39m        r.last_modified, \u001b[39;49m\n\u001b[1;32m   1189\u001b[0m \u001b[39m        r.size, \u001b[39;49m\n\u001b[1;32m   1190\u001b[0m \u001b[39m        r.history, \u001b[39;49m\n\u001b[1;32m   1191\u001b[0m \u001b[39m        r.url,\u001b[39;49m\n\u001b[1;32m   1192\u001b[0m \u001b[39m        r.kind,\u001b[39;49m\n\u001b[1;32m   1193\u001b[0m \u001b[39m        c.last_download,\u001b[39;49m\n\u001b[1;32m   1194\u001b[0m \u001b[39m        c.last_updated,\u001b[39;49m\n\u001b[1;32m   1195\u001b[0m \u001b[39m        case \u001b[39;49m\n\u001b[1;32m   1196\u001b[0m \u001b[39m            when r.last_modified is null then 0\u001b[39;49m\n\u001b[1;32m   1197\u001b[0m \u001b[39m            when c.last_download is null then 1\u001b[39;49m\n\u001b[1;32m   1198\u001b[0m \u001b[39m            when r.last_modified > c.last_download then 1 \u001b[39;49m\n\u001b[1;32m   1199\u001b[0m \u001b[39m            else 0 \u001b[39;49m\n\u001b[1;32m   1200\u001b[0m \u001b[39m        end process,\u001b[39;49m\n\u001b[1;32m   1201\u001b[0m \u001b[39m        c.active\u001b[39;49m\n\u001b[1;32m   1202\u001b[0m \u001b[39m    from catalog_journal c\u001b[39;49m\n\u001b[1;32m   1203\u001b[0m \u001b[39m    full outer join if_remote_files r \u001b[39;49m\n\u001b[1;32m   1204\u001b[0m \u001b[39m    using (href, name, kind)\u001b[39;49m\n\u001b[1;32m   1205\u001b[0m \u001b[39m    where r.sequence is not null\u001b[39;49m\n\u001b[1;32m   1206\u001b[0m \u001b[39m\u001b[39;49m\u001b[39m\"\"\"\u001b[39;49m, con\u001b[39m=\u001b[39;49mSTAGE)\n\u001b[1;32m   1208\u001b[0m catalog_journal_df\u001b[39m.\u001b[39mto_sql(\u001b[39mself\u001b[39m\u001b[39m.\u001b[39mCATALOG_JOURNAL, con\u001b[39m=\u001b[39m\u001b[39mself\u001b[39m\u001b[39m.\u001b[39mCATALOG, if_exists\u001b[39m=\u001b[39m\u001b[39m'\u001b[39m\u001b[39mreplace\u001b[39m\u001b[39m'\u001b[39m, index\u001b[39m=\u001b[39m\u001b[39mFalse\u001b[39;00m)\n",
      "File \u001b[0;32m~/.local/share/virtualenvs/fbpyutils-K6fBYxhj/lib/python3.10/site-packages/pandas/io/sql.py:635\u001b[0m, in \u001b[0;36mread_sql\u001b[0;34m(sql, con, index_col, coerce_float, params, parse_dates, columns, chunksize, dtype_backend, dtype)\u001b[0m\n\u001b[1;32m    634\u001b[0m \u001b[39mif\u001b[39;00m \u001b[39misinstance\u001b[39m(pandas_sql, SQLiteDatabase):\n\u001b[0;32m--> 635\u001b[0m     \u001b[39mreturn\u001b[39;00m pandas_sql\u001b[39m.\u001b[39;49mread_query(\n\u001b[1;32m    636\u001b[0m         sql,\n\u001b[1;32m    637\u001b[0m         index_col\u001b[39m=\u001b[39;49mindex_col,\n\u001b[1;32m    638\u001b[0m         params\u001b[39m=\u001b[39;49mparams,\n\u001b[1;32m    639\u001b[0m         coerce_float\u001b[39m=\u001b[39;49mcoerce_float,\n\u001b[1;32m    640\u001b[0m         parse_dates\u001b[39m=\u001b[39;49mparse_dates,\n\u001b[1;32m    641\u001b[0m         chunksize\u001b[39m=\u001b[39;49mchunksize,\n\u001b[1;32m    642\u001b[0m         dtype_backend\u001b[39m=\u001b[39;49mdtype_backend,  \u001b[39m# type: ignore[arg-type]\u001b[39;49;00m\n\u001b[1;32m    643\u001b[0m         dtype\u001b[39m=\u001b[39;49mdtype,\n\u001b[1;32m    644\u001b[0m     )\n\u001b[1;32m    646\u001b[0m \u001b[39mtry\u001b[39;00m:\n",
      "File \u001b[0;32m~/.local/share/virtualenvs/fbpyutils-K6fBYxhj/lib/python3.10/site-packages/pandas/io/sql.py:2266\u001b[0m, in \u001b[0;36mSQLiteDatabase.read_query\u001b[0;34m(self, sql, index_col, coerce_float, parse_dates, params, chunksize, dtype, dtype_backend)\u001b[0m\n\u001b[1;32m   2255\u001b[0m \u001b[39mdef\u001b[39;00m \u001b[39mread_query\u001b[39m(\n\u001b[1;32m   2256\u001b[0m     \u001b[39mself\u001b[39m,\n\u001b[1;32m   2257\u001b[0m     sql,\n\u001b[0;32m   (...)\u001b[0m\n\u001b[1;32m   2264\u001b[0m     dtype_backend: DtypeBackend \u001b[39m|\u001b[39m Literal[\u001b[39m\"\u001b[39m\u001b[39mnumpy\u001b[39m\u001b[39m\"\u001b[39m] \u001b[39m=\u001b[39m \u001b[39m\"\u001b[39m\u001b[39mnumpy\u001b[39m\u001b[39m\"\u001b[39m,\n\u001b[1;32m   2265\u001b[0m ) \u001b[39m-\u001b[39m\u001b[39m>\u001b[39m DataFrame \u001b[39m|\u001b[39m Iterator[DataFrame]:\n\u001b[0;32m-> 2266\u001b[0m     cursor \u001b[39m=\u001b[39m \u001b[39mself\u001b[39;49m\u001b[39m.\u001b[39;49mexecute(sql, params)\n\u001b[1;32m   2267\u001b[0m     columns \u001b[39m=\u001b[39m [col_desc[\u001b[39m0\u001b[39m] \u001b[39mfor\u001b[39;00m col_desc \u001b[39min\u001b[39;00m cursor\u001b[39m.\u001b[39mdescription]\n",
      "File \u001b[0;32m~/.local/share/virtualenvs/fbpyutils-K6fBYxhj/lib/python3.10/site-packages/pandas/io/sql.py:2214\u001b[0m, in \u001b[0;36mSQLiteDatabase.execute\u001b[0;34m(self, sql, params)\u001b[0m\n\u001b[1;32m   2213\u001b[0m ex \u001b[39m=\u001b[39m DatabaseError(\u001b[39mf\u001b[39m\u001b[39m\"\u001b[39m\u001b[39mExecution failed on sql \u001b[39m\u001b[39m'\u001b[39m\u001b[39m{\u001b[39;00msql\u001b[39m}\u001b[39;00m\u001b[39m'\u001b[39m\u001b[39m: \u001b[39m\u001b[39m{\u001b[39;00mexc\u001b[39m}\u001b[39;00m\u001b[39m\"\u001b[39m)\n\u001b[0;32m-> 2214\u001b[0m \u001b[39mraise\u001b[39;00m ex \u001b[39mfrom\u001b[39;00m \u001b[39mexc\u001b[39;00m\n",
      "\u001b[0;31mDatabaseError\u001b[0m: Execution failed on sql '\n                select r.sequence, \n                    r.href, \n                    r.name, \n                    r.last_modified, \n                    r.size, \n                    r.history, \n                    r.url,\n                    r.kind,\n                    NULL last_download,\n                    NULL last_updated,\n                    1 process,\n                    1 active\n                from catalog_journal c\n                full outer join if_remote_files r \n                using (href, name, kind)\n                where c.sequence is null\n                union\n                select c.sequence, \n                    c.href, \n                    c.name, \n                    c.last_modified, \n                    c.size, \n                    c.history, \n                    c.url,\n                    c.kind,\n                    c.last_download,\n                    c.last_updated,\n                    0 process,\n                    0 active\n                from catalog_journal c\n                full outer join if_remote_files r \n                using (href, name, kind)\n                where r.sequence is null\n                union\n                select r.sequence, \n                    r.href, \n                    r.name, \n                    r.last_modified, \n                    r.size, \n                    r.history, \n                    r.url,\n                    r.kind,\n                    c.last_download,\n                    c.last_updated,\n                    case \n                        when r.last_modified is null then 0\n                        when c.last_download is null then 1\n                        when r.last_modified > c.last_download then 1 \n                        else 0 \n                    end process,\n                    c.active\n                from catalog_journal c\n                full outer join if_remote_files r \n                using (href, name, kind)\n                where r.sequence is not null\n            ': RIGHT and FULL OUTER JOINs are not currently supported",
      "\nDuring handling of the above exception, another exception occurred:\n",
      "\u001b[0;31mValueError\u001b[0m                                Traceback (most recent call last)",
      "\u001b[1;32m/home/fcjbispo/Projetos/fbpyutils/tests/sandbox.ipynb Célula 8\u001b[0m line \u001b[0;36m1\n\u001b[0;32m----> <a href='vscode-notebook-cell://wsl%2Bubuntu-22.04/home/fcjbispo/Projetos/fbpyutils/tests/sandbox.ipynb#X41sdnNjb2RlLXJlbW90ZQ%3D%3D?line=0'>1</a>\u001b[0m r1 \u001b[39m=\u001b[39m cvm\u001b[39m.\u001b[39;49mupdate_cvm_catalog()\n",
      "File \u001b[0;32m/mnt/c/Users/fcjbispo/Projetos/fbpyutils/tests/../fbpyutils/finance/cvm/__init__.py:1265\u001b[0m, in \u001b[0;36mCVM.update_cvm_catalog\u001b[0;34m(self)\u001b[0m\n\u001b[1;32m   1263\u001b[0m \u001b[39mexcept\u001b[39;00m \u001b[39mException\u001b[39;00m \u001b[39mas\u001b[39;00m E:\n\u001b[1;32m   1264\u001b[0m     info \u001b[39m=\u001b[39m debug_info(E)\n\u001b[0;32m-> 1265\u001b[0m     \u001b[39mraise\u001b[39;00m \u001b[39mValueError\u001b[39;00m(\u001b[39m'\u001b[39m\u001b[39mFail to UPDATE history files on step \u001b[39m\u001b[39m{}\u001b[39;00m\u001b[39m: \u001b[39m\u001b[39m{}\u001b[39;00m\u001b[39m (\u001b[39m\u001b[39m{}\u001b[39;00m\u001b[39m)\u001b[39m\u001b[39m'\u001b[39m\u001b[39m.\u001b[39mformat(step, E, info))\n\u001b[1;32m   1266\u001b[0m \u001b[39mfinally\u001b[39;00m:\n\u001b[1;32m   1267\u001b[0m     STAGE \u001b[39m=\u001b[39m \u001b[39mNone\u001b[39;00m\n",
      "\u001b[0;31mValueError\u001b[0m: Fail to UPDATE history files on step SETTING UP CATALOG JOURNAL AND RETURN METADATA: Execution failed on sql '\n                select r.sequence, \n                    r.href, \n                    r.name, \n                    r.last_modified, \n                    r.size, \n                    r.history, \n                    r.url,\n                    r.kind,\n                    NULL last_download,\n                    NULL last_updated,\n                    1 process,\n                    1 active\n                from catalog_journal c\n                full outer join if_remote_files r \n                using (href, name, kind)\n                where c.sequence is null\n                union\n                select c.sequence, \n                    c.href, \n                    c.name, \n                    c.last_modified, \n                    c.size, \n                    c.history, \n                    c.url,\n                    c.kind,\n                    c.last_download,\n                    c.last_updated,\n                    0 process,\n                    0 active\n                from catalog_journal c\n                full outer join if_remote_files r \n                using (href, name, kind)\n                where r.sequence is null\n                union\n                select r.sequence, \n                    r.href, \n                    r.name, \n                    r.last_modified, \n                    r.size, \n                    r.history, \n                    r.url,\n                    r.kind,\n                    c.last_download,\n                    c.last_updated,\n                    case \n                        when r.last_modified is null then 0\n                        when c.last_download is null then 1\n                        when r.last_modified > c.last_download then 1 \n                        else 0 \n                    end process,\n                    c.active\n                from catalog_journal c\n                full outer join if_remote_files r \n                using (href, name, kind)\n                where r.sequence is not null\n            ': RIGHT and FULL OUTER JOINs are not currently supported (Execution failed on sql '\n                select r.sequence, \n                    r.href, \n                    r.name, \n                    r.last_modified, \n                    r.size, \n                    r.history, \n                    r.url,\n                    r.kind,\n                    NULL last_download,\n                    NULL last_updated,\n                    1 process,\n                    1 active\n                from catalog_journal c\n                full outer join if_remote_files r \n                using (href, name, kind)\n                where c.sequence is null\n                union\n                select c.sequence, \n                    c.href, \n                    c.name, \n                    c.last_modified, \n                    c.size, \n                    c.history, \n                    c.url,\n                    c.kind,\n                    c.last_download,\n                    c.last_updated,\n                    0 process,\n                    0 active\n                from catalog_journal c\n                full outer join if_remote_files r \n                using (href, name, kind)\n                where r.sequence is null\n                union\n                select r.sequence, \n                    r.href, \n                    r.name, \n                    r.last_modified, \n                    r.size, \n                    r.history, \n                    r.url,\n                    r.kind,\n                    c.last_download,\n                    c.last_updated,\n                    case \n                        when r.last_modified is null then 0\n                        when c.last_download is null then 1\n                        when r.last_modified > c.last_download then 1 \n                        else 0 \n                    end process,\n                    c.active\n                from catalog_journal c\n                full outer join if_remote_files r \n                using (href, name, kind)\n                where r.sequence is not null\n            ': RIGHT and FULL OUTER JOINs are not currently supported: Traceback (most recent call last):\n  File \"/home/fcjbispo/.local/share/virtualenvs/fbpyutils-K6fBYxhj/lib/python3.10/site-packages/pandas/io/sql.py\", line 2202, in execute\n    dtype = cast(dict, dtype)\nsqlite3.OperationalError: RIGHT and FULL OUTER JOINs are not currently supported\n\nThe above exception was the direct cause of the following exception:\n\nTraceback (most recent call last):\n  File \"/mnt/c/Users/fcjbispo/Projetos/fbpyutils/tests/../fbpyutils/finance/cvm/__init__.py\", line 1150, in update_cvm_catalog\n    catalog_journal_df = pd.read_sql(\"\"\"\n  File \"/home/fcjbispo/.local/share/virtualenvs/fbpyutils-K6fBYxhj/lib/python3.10/site-packages/pandas/io/sql.py\", line 635, in read_sql\n    The ``parse_dates`` argument calls ``pd.to_datetime`` on the provided columns.\n  File \"/home/fcjbispo/.local/share/virtualenvs/fbpyutils-K6fBYxhj/lib/python3.10/site-packages/pandas/io/sql.py\", line 2266, in read_query\n    cur.execute(sql, *args)\n  File \"/home/fcjbispo/.local/share/virtualenvs/fbpyutils-K6fBYxhj/lib/python3.10/site-packages/pandas/io/sql.py\", line 2214, in execute\n    UserWarning,\npandas.errors.DatabaseError: Execution failed on sql '\n                select r.sequence, \n                    r.href, \n                    r.name, \n                    r.last_modified, \n                    r.size, \n                    r.history, \n                    r.url,\n                    r.kind,\n                    NULL last_download,\n                    NULL last_updated,\n                    1 process,\n                    1 active\n                from catalog_journal c\n                full outer join if_remote_files r \n                using (href, name, kind)\n                where c.sequence is null\n                union\n                select c.sequence, \n                    c.href, \n                    c.name, \n                    c.last_modified, \n                    c.size, \n                    c.history, \n                    c.url,\n                    c.kind,\n                    c.last_download,\n                    c.last_updated,\n                    0 process,\n                    0 active\n                from catalog_journal c\n                full outer join if_remote_files r \n                using (href, name, kind)\n                where r.sequence is null\n                union\n                select r.sequence, \n                    r.href, \n                    r.name, \n                    r.last_modified, \n                    r.size, \n                    r.history, \n                    r.url,\n                    r.kind,\n                    c.last_download,\n                    c.last_updated,\n                    case \n                        when r.last_modified is null then 0\n                        when c.last_download is null then 1\n                        when r.last_modified > c.last_download then 1 \n                        else 0 \n                    end process,\n                    c.active\n                from catalog_journal c\n                full outer join if_remote_files r \n                using (href, name, kind)\n                where r.sequence is not null\n            ': RIGHT and FULL OUTER JOINs are not currently supported\n.)"
     ]
    }
   ],
   "source": [
    "r1 = cvm.update_cvm_catalog()"
   ]
  },
  {
   "cell_type": "code",
   "execution_count": null,
   "metadata": {},
   "outputs": [],
   "source": []
  }
 ],
 "metadata": {
  "kernelspec": {
   "display_name": "fbpyutils-IGl4-GRW",
   "language": "python",
   "name": "python3"
  },
  "language_info": {
   "codemirror_mode": {
    "name": "ipython",
    "version": 3
   },
   "file_extension": ".py",
   "mimetype": "text/x-python",
   "name": "python",
   "nbconvert_exporter": "python",
   "pygments_lexer": "ipython3",
   "version": "3.10.12"
  },
  "vscode": {
   "interpreter": {
    "hash": "6751960e02e7689ae8a83e1c4c6124a19ee8037fb487a081cd43822d590c0ed2"
   }
  }
 },
 "nbformat": 4,
 "nbformat_minor": 4
}
