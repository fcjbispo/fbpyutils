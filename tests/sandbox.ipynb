{
 "cells": [
  {
   "cell_type": "code",
   "execution_count": 1,
   "metadata": {},
   "outputs": [],
   "source": [
    "import os, sys\n",
    "sys.path.insert(0, '..')"
   ]
  },
  {
   "cell_type": "code",
   "execution_count": 2,
   "metadata": {},
   "outputs": [],
   "source": [
    "from fbpyutils import xlsx as XL, db as DB, ofx as OFX\n",
    "import pandas as pd"
   ]
  },
  {
   "cell_type": "code",
   "execution_count": 3,
   "metadata": {},
   "outputs": [],
   "source": [
    "OFX_PATH='/mnt/c/Users/fcjbispo/Meu Drive/Finanças/Extratos & Faturas/INTERPF_0001_19187904/OFX_DONE/Extrato-01-03-2023-a-31-03-2023.ofx'"
   ]
  },
  {
   "cell_type": "code",
   "execution_count": 4,
   "metadata": {},
   "outputs": [],
   "source": [
    "ofx_data = OFX.read_from_path(OFX_PATH)"
   ]
  },
  {
   "cell_type": "code",
   "execution_count": 5,
   "metadata": {},
   "outputs": [],
   "source": [
    "xdata = [(t['type'], t['date'], t['memo'], t['amount']) for t in ofx_data['statement']['transactions']]"
   ]
  },
  {
   "cell_type": "code",
   "execution_count": 8,
   "metadata": {},
   "outputs": [],
   "source": [
    "xcolumns=['type_________', 'data', 'memo', 'amount']"
   ]
  },
  {
   "cell_type": "code",
   "execution_count": 9,
   "metadata": {},
   "outputs": [
    {
     "name": "stdout",
     "output_type": "stream",
     "text": [
      "+-------------+-------------------+--------------+-------+\n",
      "|type_________|        data       |     memo     | amount|\n",
      "+-------------+-------------------+--------------+-------+\n",
      "|PAYMENT      |2023-03-31 00:00:00|GLOBAL ACCOUNT|-0.56  |\n",
      "|PAYMENT      |2023-03-31 00:00:00|GLOBAL ACCOUNT|-51.24 |\n",
      "|PAYMENT      |2023-03-31 00:00:00|GLOBAL ACCOUNT|-2.25  |\n",
      "|PAYMENT      |2023-03-31 00:00:00|GLOBAL ACCOUNT|-204.69|\n",
      "+-------------+-------------------+--------------+-------+\n"
     ]
    }
   ],
   "source": [
    "DB.print_ascii_table(xdata[0:4], xcolumns)"
   ]
  },
  {
   "cell_type": "code",
   "execution_count": null,
   "metadata": {},
   "outputs": [],
   "source": [
    "col_sizes = [len(c) for c in xcolumns]\n",
    "col_sizes"
   ]
  },
  {
   "cell_type": "code",
   "execution_count": null,
   "metadata": {},
   "outputs": [],
   "source": [
    "max_sizes = [len(str(c)) for c in xdata[0]]\n",
    "max_sizes"
   ]
  },
  {
   "cell_type": "code",
   "execution_count": null,
   "metadata": {},
   "outputs": [],
   "source": [
    "new_max_sizes = []\n",
    "for i, s in enumerate(max_sizes):\n",
    "    new_max_sizes.append(max(max_sizes[i], col_sizes[i]))"
   ]
  },
  {
   "cell_type": "code",
   "execution_count": null,
   "metadata": {},
   "outputs": [],
   "source": [
    "new_max_sizes"
   ]
  },
  {
   "cell_type": "code",
   "execution_count": null,
   "metadata": {},
   "outputs": [],
   "source": []
  }
 ],
 "metadata": {
  "kernelspec": {
   "display_name": "fbpyutils-IGl4-GRW",
   "language": "python",
   "name": "python3"
  },
  "language_info": {
   "codemirror_mode": {
    "name": "ipython",
    "version": 3
   },
   "file_extension": ".py",
   "mimetype": "text/x-python",
   "name": "python",
   "nbconvert_exporter": "python",
   "pygments_lexer": "ipython3",
   "version": "3.10.12"
  },
  "vscode": {
   "interpreter": {
    "hash": "6751960e02e7689ae8a83e1c4c6124a19ee8037fb487a081cd43822d590c0ed2"
   }
  }
 },
 "nbformat": 4,
 "nbformat_minor": 4
}
