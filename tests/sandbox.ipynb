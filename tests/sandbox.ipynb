{
 "cells": [
  {
   "cell_type": "code",
   "execution_count": 1,
   "metadata": {},
   "outputs": [],
   "source": [
    "import os, sys\n",
    "sys.path.insert(0, '..')"
   ]
  },
  {
   "cell_type": "code",
   "execution_count": 2,
   "metadata": {},
   "outputs": [],
   "source": [
    "from fbpyutils import xlsx as XL, db as DB, ofx as OFX\n",
    "import pandas as pd"
   ]
  },
  {
   "cell_type": "code",
   "execution_count": 3,
   "metadata": {},
   "outputs": [
    {
     "data": {
      "text/plain": [
       "'2.1.0'"
      ]
     },
     "execution_count": 3,
     "metadata": {},
     "output_type": "execute_result"
    }
   ],
   "source": [
    "pd.__version__"
   ]
  },
  {
   "cell_type": "code",
   "execution_count": 4,
   "metadata": {},
   "outputs": [],
   "source": [
    "from fbpyutils.finance import cvm as C"
   ]
  },
  {
   "cell_type": "code",
   "execution_count": 5,
   "metadata": {},
   "outputs": [],
   "source": [
    "cvm_history_folder = '/home/fcjbispo/Dados/InfoBR/Series/cvm'"
   ]
  },
  {
   "cell_type": "code",
   "execution_count": 6,
   "metadata": {},
   "outputs": [],
   "source": [
    "cvm = C.CVM(history_folder=cvm_history_folder)"
   ]
  },
  {
   "cell_type": "code",
   "execution_count": 7,
   "metadata": {},
   "outputs": [
    {
     "data": {
      "text/plain": [
       "'/home/fcjbispo/Dados/InfoBR/Series/cvm'"
      ]
     },
     "execution_count": 7,
     "metadata": {},
     "output_type": "execute_result"
    }
   ],
   "source": [
    "cvm.HISTORY_FOLDER"
   ]
  },
  {
   "cell_type": "code",
   "execution_count": 8,
   "metadata": {},
   "outputs": [],
   "source": [
    "r1 = cvm.update_cvm_catalog()"
   ]
  },
  {
   "cell_type": "code",
   "execution_count": 9,
   "metadata": {},
   "outputs": [
    {
     "data": {
      "text/html": [
       "<div>\n",
       "<style scoped>\n",
       "    .dataframe tbody tr th:only-of-type {\n",
       "        vertical-align: middle;\n",
       "    }\n",
       "\n",
       "    .dataframe tbody tr th {\n",
       "        vertical-align: top;\n",
       "    }\n",
       "\n",
       "    .dataframe thead th {\n",
       "        text-align: right;\n",
       "    }\n",
       "</style>\n",
       "<table border=\"1\" class=\"dataframe\">\n",
       "  <thead>\n",
       "    <tr style=\"text-align: right;\">\n",
       "      <th></th>\n",
       "      <th>sequence</th>\n",
       "      <th>href</th>\n",
       "      <th>name</th>\n",
       "      <th>last_modified</th>\n",
       "      <th>size</th>\n",
       "      <th>history</th>\n",
       "      <th>url</th>\n",
       "      <th>kind</th>\n",
       "      <th>last_download</th>\n",
       "      <th>last_updated</th>\n",
       "      <th>process</th>\n",
       "      <th>active</th>\n",
       "    </tr>\n",
       "  </thead>\n",
       "  <tbody>\n",
       "    <tr>\n",
       "      <th>0</th>\n",
       "      <td>1</td>\n",
       "      <td>inf_cadastral_fi_2017.zip</td>\n",
       "      <td>inf_cadastral_fi_2017</td>\n",
       "      <td>2020-08-01 01:34:00</td>\n",
       "      <td>184.0</td>\n",
       "      <td>1</td>\n",
       "      <td>http://dados.cvm.gov.br/dados/FI/CAD/DADOS/HIS...</td>\n",
       "      <td>IF_REGISTER</td>\n",
       "      <td>2023-09-22 20:44:05</td>\n",
       "      <td>None</td>\n",
       "      <td>0</td>\n",
       "      <td>1</td>\n",
       "    </tr>\n",
       "    <tr>\n",
       "      <th>1</th>\n",
       "      <td>1</td>\n",
       "      <td>inf_diario_fi_2000.zip</td>\n",
       "      <td>inf_diario_fi_2000</td>\n",
       "      <td>2022-11-11 17:57:00</td>\n",
       "      <td>3513.0</td>\n",
       "      <td>1</td>\n",
       "      <td>http://dados.cvm.gov.br/dados/FI/DOC/INF_DIARI...</td>\n",
       "      <td>IF_POSITION</td>\n",
       "      <td>2023-09-22 20:44:05</td>\n",
       "      <td>None</td>\n",
       "      <td>0</td>\n",
       "      <td>1</td>\n",
       "    </tr>\n",
       "    <tr>\n",
       "      <th>2</th>\n",
       "      <td>2</td>\n",
       "      <td>cad_fi.csv</td>\n",
       "      <td>cad_fi</td>\n",
       "      <td>2023-09-22 05:25:00</td>\n",
       "      <td>34.0</td>\n",
       "      <td>0</td>\n",
       "      <td>http://dados.cvm.gov.br/dados/FI/CAD/DADOS/cad...</td>\n",
       "      <td>IF_REGISTER</td>\n",
       "      <td>2023-09-22 20:44:05</td>\n",
       "      <td>None</td>\n",
       "      <td>0</td>\n",
       "      <td>1</td>\n",
       "    </tr>\n",
       "    <tr>\n",
       "      <th>3</th>\n",
       "      <td>2</td>\n",
       "      <td>inf_cadastral_fi_2018.zip</td>\n",
       "      <td>inf_cadastral_fi_2018</td>\n",
       "      <td>2020-08-01 01:42:00</td>\n",
       "      <td>409.0</td>\n",
       "      <td>1</td>\n",
       "      <td>http://dados.cvm.gov.br/dados/FI/CAD/DADOS/HIS...</td>\n",
       "      <td>IF_REGISTER</td>\n",
       "      <td>2023-09-22 20:44:05</td>\n",
       "      <td>None</td>\n",
       "      <td>0</td>\n",
       "      <td>1</td>\n",
       "    </tr>\n",
       "    <tr>\n",
       "      <th>4</th>\n",
       "      <td>2</td>\n",
       "      <td>inf_diario_fi_2001.zip</td>\n",
       "      <td>inf_diario_fi_2001</td>\n",
       "      <td>2022-11-11 18:30:00</td>\n",
       "      <td>3477.0</td>\n",
       "      <td>1</td>\n",
       "      <td>http://dados.cvm.gov.br/dados/FI/DOC/INF_DIARI...</td>\n",
       "      <td>IF_POSITION</td>\n",
       "      <td>2023-09-22 20:44:05</td>\n",
       "      <td>None</td>\n",
       "      <td>0</td>\n",
       "      <td>1</td>\n",
       "    </tr>\n",
       "    <tr>\n",
       "      <th>...</th>\n",
       "      <td>...</td>\n",
       "      <td>...</td>\n",
       "      <td>...</td>\n",
       "      <td>...</td>\n",
       "      <td>...</td>\n",
       "      <td>...</td>\n",
       "      <td>...</td>\n",
       "      <td>...</td>\n",
       "      <td>...</td>\n",
       "      <td>...</td>\n",
       "      <td>...</td>\n",
       "      <td>...</td>\n",
       "    </tr>\n",
       "    <tr>\n",
       "      <th>56</th>\n",
       "      <td>30</td>\n",
       "      <td>inf_diario_fi_202305.zip</td>\n",
       "      <td>inf_diario_fi_202305</td>\n",
       "      <td>2023-09-17 12:39:00</td>\n",
       "      <td>11.0</td>\n",
       "      <td>0</td>\n",
       "      <td>http://dados.cvm.gov.br/dados/FI/DOC/INF_DIARI...</td>\n",
       "      <td>IF_POSITION</td>\n",
       "      <td>2023-09-22 20:44:05</td>\n",
       "      <td>None</td>\n",
       "      <td>0</td>\n",
       "      <td>1</td>\n",
       "    </tr>\n",
       "    <tr>\n",
       "      <th>57</th>\n",
       "      <td>31</td>\n",
       "      <td>inf_diario_fi_202306.zip</td>\n",
       "      <td>inf_diario_fi_202306</td>\n",
       "      <td>2023-09-17 12:35:00</td>\n",
       "      <td>10.0</td>\n",
       "      <td>0</td>\n",
       "      <td>http://dados.cvm.gov.br/dados/FI/DOC/INF_DIARI...</td>\n",
       "      <td>IF_POSITION</td>\n",
       "      <td>2023-09-22 20:44:05</td>\n",
       "      <td>None</td>\n",
       "      <td>0</td>\n",
       "      <td>1</td>\n",
       "    </tr>\n",
       "    <tr>\n",
       "      <th>58</th>\n",
       "      <td>32</td>\n",
       "      <td>inf_diario_fi_202307.zip</td>\n",
       "      <td>inf_diario_fi_202307</td>\n",
       "      <td>2023-09-17 12:30:00</td>\n",
       "      <td>10.0</td>\n",
       "      <td>0</td>\n",
       "      <td>http://dados.cvm.gov.br/dados/FI/DOC/INF_DIARI...</td>\n",
       "      <td>IF_POSITION</td>\n",
       "      <td>2023-09-22 20:44:05</td>\n",
       "      <td>None</td>\n",
       "      <td>0</td>\n",
       "      <td>1</td>\n",
       "    </tr>\n",
       "    <tr>\n",
       "      <th>59</th>\n",
       "      <td>33</td>\n",
       "      <td>inf_diario_fi_202308.zip</td>\n",
       "      <td>inf_diario_fi_202308</td>\n",
       "      <td>2023-09-22 05:36:00</td>\n",
       "      <td>11.0</td>\n",
       "      <td>0</td>\n",
       "      <td>http://dados.cvm.gov.br/dados/FI/DOC/INF_DIARI...</td>\n",
       "      <td>IF_POSITION</td>\n",
       "      <td>2023-09-22 20:44:05</td>\n",
       "      <td>None</td>\n",
       "      <td>0</td>\n",
       "      <td>1</td>\n",
       "    </tr>\n",
       "    <tr>\n",
       "      <th>60</th>\n",
       "      <td>34</td>\n",
       "      <td>inf_diario_fi_202309.zip</td>\n",
       "      <td>inf_diario_fi_202309</td>\n",
       "      <td>2023-09-22 05:32:00</td>\n",
       "      <td>6.0</td>\n",
       "      <td>0</td>\n",
       "      <td>http://dados.cvm.gov.br/dados/FI/DOC/INF_DIARI...</td>\n",
       "      <td>IF_POSITION</td>\n",
       "      <td>2023-09-22 20:44:05</td>\n",
       "      <td>None</td>\n",
       "      <td>0</td>\n",
       "      <td>1</td>\n",
       "    </tr>\n",
       "  </tbody>\n",
       "</table>\n",
       "<p>61 rows × 12 columns</p>\n",
       "</div>"
      ],
      "text/plain": [
       "    sequence                       href                   name  \\\n",
       "0          1  inf_cadastral_fi_2017.zip  inf_cadastral_fi_2017   \n",
       "1          1     inf_diario_fi_2000.zip     inf_diario_fi_2000   \n",
       "2          2                 cad_fi.csv                 cad_fi   \n",
       "3          2  inf_cadastral_fi_2018.zip  inf_cadastral_fi_2018   \n",
       "4          2     inf_diario_fi_2001.zip     inf_diario_fi_2001   \n",
       "..       ...                        ...                    ...   \n",
       "56        30   inf_diario_fi_202305.zip   inf_diario_fi_202305   \n",
       "57        31   inf_diario_fi_202306.zip   inf_diario_fi_202306   \n",
       "58        32   inf_diario_fi_202307.zip   inf_diario_fi_202307   \n",
       "59        33   inf_diario_fi_202308.zip   inf_diario_fi_202308   \n",
       "60        34   inf_diario_fi_202309.zip   inf_diario_fi_202309   \n",
       "\n",
       "          last_modified    size  history  \\\n",
       "0   2020-08-01 01:34:00   184.0        1   \n",
       "1   2022-11-11 17:57:00  3513.0        1   \n",
       "2   2023-09-22 05:25:00    34.0        0   \n",
       "3   2020-08-01 01:42:00   409.0        1   \n",
       "4   2022-11-11 18:30:00  3477.0        1   \n",
       "..                  ...     ...      ...   \n",
       "56  2023-09-17 12:39:00    11.0        0   \n",
       "57  2023-09-17 12:35:00    10.0        0   \n",
       "58  2023-09-17 12:30:00    10.0        0   \n",
       "59  2023-09-22 05:36:00    11.0        0   \n",
       "60  2023-09-22 05:32:00     6.0        0   \n",
       "\n",
       "                                                  url         kind  \\\n",
       "0   http://dados.cvm.gov.br/dados/FI/CAD/DADOS/HIS...  IF_REGISTER   \n",
       "1   http://dados.cvm.gov.br/dados/FI/DOC/INF_DIARI...  IF_POSITION   \n",
       "2   http://dados.cvm.gov.br/dados/FI/CAD/DADOS/cad...  IF_REGISTER   \n",
       "3   http://dados.cvm.gov.br/dados/FI/CAD/DADOS/HIS...  IF_REGISTER   \n",
       "4   http://dados.cvm.gov.br/dados/FI/DOC/INF_DIARI...  IF_POSITION   \n",
       "..                                                ...          ...   \n",
       "56  http://dados.cvm.gov.br/dados/FI/DOC/INF_DIARI...  IF_POSITION   \n",
       "57  http://dados.cvm.gov.br/dados/FI/DOC/INF_DIARI...  IF_POSITION   \n",
       "58  http://dados.cvm.gov.br/dados/FI/DOC/INF_DIARI...  IF_POSITION   \n",
       "59  http://dados.cvm.gov.br/dados/FI/DOC/INF_DIARI...  IF_POSITION   \n",
       "60  http://dados.cvm.gov.br/dados/FI/DOC/INF_DIARI...  IF_POSITION   \n",
       "\n",
       "          last_download last_updated  process  active  \n",
       "0   2023-09-22 20:44:05         None        0       1  \n",
       "1   2023-09-22 20:44:05         None        0       1  \n",
       "2   2023-09-22 20:44:05         None        0       1  \n",
       "3   2023-09-22 20:44:05         None        0       1  \n",
       "4   2023-09-22 20:44:05         None        0       1  \n",
       "..                  ...          ...      ...     ...  \n",
       "56  2023-09-22 20:44:05         None        0       1  \n",
       "57  2023-09-22 20:44:05         None        0       1  \n",
       "58  2023-09-22 20:44:05         None        0       1  \n",
       "59  2023-09-22 20:44:05         None        0       1  \n",
       "60  2023-09-22 20:44:05         None        0       1  \n",
       "\n",
       "[61 rows x 12 columns]"
      ]
     },
     "execution_count": 9,
     "metadata": {},
     "output_type": "execute_result"
    }
   ],
   "source": [
    "cvm.get_cvm_catalog()"
   ]
  },
  {
   "cell_type": "code",
   "execution_count": 11,
   "metadata": {},
   "outputs": [],
   "source": [
    "f = cvm.get_cvm_files(kind='IF_REGISTER')"
   ]
  },
  {
   "cell_type": "code",
   "execution_count": 12,
   "metadata": {},
   "outputs": [
    {
     "data": {
      "text/plain": [
       "(('IF_REGISTER',\n",
       "  'cad_fi',\n",
       "  False,\n",
       "  ('/home/fcjbispo/Dados/InfoBR/Series/cvm/if_register.cad_fi.csv',)),\n",
       " ('IF_REGISTER',\n",
       "  'cad_fi_hist',\n",
       "  False,\n",
       "  ('/home/fcjbispo/Dados/InfoBR/Series/cvm/if_register.cad_fi_hist.0000.cad_fi_hist_admin.csv',\n",
       "   '/home/fcjbispo/Dados/InfoBR/Series/cvm/if_register.cad_fi_hist.0001.cad_fi_hist_auditor.csv',\n",
       "   '/home/fcjbispo/Dados/InfoBR/Series/cvm/if_register.cad_fi_hist.0002.cad_fi_hist_classe.csv',\n",
       "   '/home/fcjbispo/Dados/InfoBR/Series/cvm/if_register.cad_fi_hist.0003.cad_fi_hist_condom.csv',\n",
       "   '/home/fcjbispo/Dados/InfoBR/Series/cvm/if_register.cad_fi_hist.0004.cad_fi_hist_controlador.csv',\n",
       "   '/home/fcjbispo/Dados/InfoBR/Series/cvm/if_register.cad_fi_hist.0005.cad_fi_hist_custodiante.csv',\n",
       "   '/home/fcjbispo/Dados/InfoBR/Series/cvm/if_register.cad_fi_hist.0006.cad_fi_hist_denom_comerc.csv',\n",
       "   '/home/fcjbispo/Dados/InfoBR/Series/cvm/if_register.cad_fi_hist.0007.cad_fi_hist_denom_social.csv',\n",
       "   '/home/fcjbispo/Dados/InfoBR/Series/cvm/if_register.cad_fi_hist.0008.cad_fi_hist_diretor_resp.csv',\n",
       "   '/home/fcjbispo/Dados/InfoBR/Series/cvm/if_register.cad_fi_hist.0009.cad_fi_hist_exclusivo.csv',\n",
       "   '/home/fcjbispo/Dados/InfoBR/Series/cvm/if_register.cad_fi_hist.0010.cad_fi_hist_exerc_social.csv',\n",
       "   '/home/fcjbispo/Dados/InfoBR/Series/cvm/if_register.cad_fi_hist.0011.cad_fi_hist_fic.csv',\n",
       "   '/home/fcjbispo/Dados/InfoBR/Series/cvm/if_register.cad_fi_hist.0012.cad_fi_hist_gestor.csv',\n",
       "   '/home/fcjbispo/Dados/InfoBR/Series/cvm/if_register.cad_fi_hist.0013.cad_fi_hist_publico_alvo.csv',\n",
       "   '/home/fcjbispo/Dados/InfoBR/Series/cvm/if_register.cad_fi_hist.0014.cad_fi_hist_rentab.csv',\n",
       "   '/home/fcjbispo/Dados/InfoBR/Series/cvm/if_register.cad_fi_hist.0015.cad_fi_hist_sit.csv',\n",
       "   '/home/fcjbispo/Dados/InfoBR/Series/cvm/if_register.cad_fi_hist.0016.cad_fi_hist_taxa_adm.csv',\n",
       "   '/home/fcjbispo/Dados/InfoBR/Series/cvm/if_register.cad_fi_hist.0017.cad_fi_hist_taxa_perfm.csv',\n",
       "   '/home/fcjbispo/Dados/InfoBR/Series/cvm/if_register.cad_fi_hist.0018.cad_fi_hist_trib_lprazo.csv')))"
      ]
     },
     "execution_count": 12,
     "metadata": {},
     "output_type": "execute_result"
    }
   ],
   "source": []
  }
 ],
 "metadata": {
  "kernelspec": {
   "display_name": "fbpyutils-IGl4-GRW",
   "language": "python",
   "name": "python3"
  },
  "language_info": {
   "codemirror_mode": {
    "name": "ipython",
    "version": 3
   },
   "file_extension": ".py",
   "mimetype": "text/x-python",
   "name": "python",
   "nbconvert_exporter": "python",
   "pygments_lexer": "ipython3",
   "version": "3.10.12"
  },
  "vscode": {
   "interpreter": {
    "hash": "6751960e02e7689ae8a83e1c4c6124a19ee8037fb487a081cd43822d590c0ed2"
   }
  }
 },
 "nbformat": 4,
 "nbformat_minor": 4
}
