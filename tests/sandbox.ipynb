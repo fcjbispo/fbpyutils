{
 "cells": [
  {
   "cell_type": "code",
   "execution_count": 1,
   "metadata": {},
   "outputs": [],
   "source": [
    "import os, sys"
   ]
  },
  {
   "cell_type": "code",
   "execution_count": 2,
   "metadata": {},
   "outputs": [],
   "source": [
    "_root_dir = '/mnt/d/Projetos/fbpyutils'\n",
    "sys.path.insert(0, _root_dir)"
   ]
  },
  {
   "cell_type": "code",
   "execution_count": 3,
   "metadata": {},
   "outputs": [],
   "source": [
    "from datetime import datetime, date\n",
    "import pandas as pd\n",
    "import numpy as np"
   ]
  },
  {
   "cell_type": "code",
   "execution_count": 4,
   "metadata": {},
   "outputs": [],
   "source": [
    "from fbpyutils import file as FU, string as SU, xlsx as XL"
   ]
  },
  {
   "cell_type": "code",
   "execution_count": 5,
   "metadata": {},
   "outputs": [],
   "source": [
    "pd.set_option('display.max_columns', None)\n",
    "pd.set_option('display.max_rows', None)"
   ]
  },
  {
   "cell_type": "code",
   "execution_count": 6,
   "metadata": {},
   "outputs": [],
   "source": [
    "input_file = '/mnt/c/Users/fcjbi/Meu Drive/Finanças/Extratos & Faturas/UNSORTED/CEI/aa_input/posicao-2022-01-29-14-17-17.xlsx'"
   ]
  },
  {
   "cell_type": "code",
   "execution_count": 7,
   "metadata": {},
   "outputs": [],
   "source": [
    "xl_data = tuple(XL.get_sheet_by_name(input_file, 'Ações'))"
   ]
  },
  {
   "cell_type": "code",
   "execution_count": 8,
   "metadata": {},
   "outputs": [],
   "source": [
    "xl_dataframe = pd.DataFrame(xl_data[1:], columns=xl_data[0])"
   ]
  },
  {
   "cell_type": "code",
   "execution_count": 9,
   "metadata": {},
   "outputs": [
    {
     "data": {
      "text/html": [
       "<div>\n",
       "<style scoped>\n",
       "    .dataframe tbody tr th:only-of-type {\n",
       "        vertical-align: middle;\n",
       "    }\n",
       "\n",
       "    .dataframe tbody tr th {\n",
       "        vertical-align: top;\n",
       "    }\n",
       "\n",
       "    .dataframe thead th {\n",
       "        text-align: right;\n",
       "    }\n",
       "</style>\n",
       "<table border=\"1\" class=\"dataframe\">\n",
       "  <thead>\n",
       "    <tr style=\"text-align: right;\">\n",
       "      <th></th>\n",
       "      <th>Produto</th>\n",
       "      <th>Instituição</th>\n",
       "      <th>Código de Negociação</th>\n",
       "      <th>Código ISIN / Distribuição</th>\n",
       "      <th>Tipo</th>\n",
       "      <th>Escriturador</th>\n",
       "      <th>Quantidade</th>\n",
       "      <th>Quantidade Disponível</th>\n",
       "      <th>Quantidade Indisponível</th>\n",
       "      <th>Motivo</th>\n",
       "      <th>Preço de Fechamento</th>\n",
       "      <th>Valor Atualizado</th>\n",
       "    </tr>\n",
       "  </thead>\n",
       "  <tbody>\n",
       "    <tr>\n",
       "      <th>0</th>\n",
       "      <td>ABEV3 - AMBEV S.A.                            ...</td>\n",
       "      <td>INTER DISTRIBUIDORA DE TITULOS E VALORES MOBIL...</td>\n",
       "      <td>ABEV3</td>\n",
       "      <td>BRABEVACNOR1 - 125</td>\n",
       "      <td>ON</td>\n",
       "      <td>BANCO BRADESCO S/A</td>\n",
       "      <td>147</td>\n",
       "      <td>147</td>\n",
       "      <td>-</td>\n",
       "      <td>-</td>\n",
       "      <td>14.93</td>\n",
       "      <td>2194.71</td>\n",
       "    </tr>\n",
       "    <tr>\n",
       "      <th>1</th>\n",
       "      <td>ALUP11 - ALUPAR INVESTIMENTO S/A              ...</td>\n",
       "      <td>INTER DISTRIBUIDORA DE TITULOS E VALORES MOBIL...</td>\n",
       "      <td>ALUP11</td>\n",
       "      <td>BRALUPCDAM15 - 112</td>\n",
       "      <td>UNIT</td>\n",
       "      <td>ITAU CV S/A</td>\n",
       "      <td>86</td>\n",
       "      <td>86</td>\n",
       "      <td>-</td>\n",
       "      <td>-</td>\n",
       "      <td>25</td>\n",
       "      <td>2150</td>\n",
       "    </tr>\n",
       "    <tr>\n",
       "      <th>2</th>\n",
       "      <td>BBSE3 - BB SEGURIDADE PARTICIPAÇÕES S.A.      ...</td>\n",
       "      <td>INTER DISTRIBUIDORA DE TITULOS E VALORES MOBIL...</td>\n",
       "      <td>BBSE3</td>\n",
       "      <td>BRBBSEACNOR5 - 119</td>\n",
       "      <td>ON</td>\n",
       "      <td>BANCO DO BRASIL S/A</td>\n",
       "      <td>113</td>\n",
       "      <td>113</td>\n",
       "      <td>-</td>\n",
       "      <td>-</td>\n",
       "      <td>22.68</td>\n",
       "      <td>2562.84</td>\n",
       "    </tr>\n",
       "    <tr>\n",
       "      <th>3</th>\n",
       "      <td>BRSR6 - BCO ESTADO DO RIO GRANDE DO SUL S.A.  ...</td>\n",
       "      <td>INTER DISTRIBUIDORA DE TITULOS E VALORES MOBIL...</td>\n",
       "      <td>BRSR6</td>\n",
       "      <td>BRBRSRACNPB4 - 179</td>\n",
       "      <td>PNB</td>\n",
       "      <td>BANCO DO ESTADO DO RIO GRANDE DO SUL S/A</td>\n",
       "      <td>210</td>\n",
       "      <td>210</td>\n",
       "      <td>-</td>\n",
       "      <td>-</td>\n",
       "      <td>10.78</td>\n",
       "      <td>2263.8</td>\n",
       "    </tr>\n",
       "    <tr>\n",
       "      <th>4</th>\n",
       "      <td>DIRR3 - DIRECIONAL ENGENHARIA S.A.            ...</td>\n",
       "      <td>INTER DISTRIBUIDORA DE TITULOS E VALORES MOBIL...</td>\n",
       "      <td>DIRR3</td>\n",
       "      <td>BRDIRRACNOR0 - 114</td>\n",
       "      <td>ON</td>\n",
       "      <td>BANCO BRADESCO S/A</td>\n",
       "      <td>242</td>\n",
       "      <td>242</td>\n",
       "      <td>-</td>\n",
       "      <td>-</td>\n",
       "      <td>13.49</td>\n",
       "      <td>3264.58</td>\n",
       "    </tr>\n",
       "  </tbody>\n",
       "</table>\n",
       "</div>"
      ],
      "text/plain": [
       "                                             Produto  \\\n",
       "0  ABEV3 - AMBEV S.A.                            ...   \n",
       "1  ALUP11 - ALUPAR INVESTIMENTO S/A              ...   \n",
       "2  BBSE3 - BB SEGURIDADE PARTICIPAÇÕES S.A.      ...   \n",
       "3  BRSR6 - BCO ESTADO DO RIO GRANDE DO SUL S.A.  ...   \n",
       "4  DIRR3 - DIRECIONAL ENGENHARIA S.A.            ...   \n",
       "\n",
       "                                         Instituição Código de Negociação  \\\n",
       "0  INTER DISTRIBUIDORA DE TITULOS E VALORES MOBIL...                ABEV3   \n",
       "1  INTER DISTRIBUIDORA DE TITULOS E VALORES MOBIL...               ALUP11   \n",
       "2  INTER DISTRIBUIDORA DE TITULOS E VALORES MOBIL...                BBSE3   \n",
       "3  INTER DISTRIBUIDORA DE TITULOS E VALORES MOBIL...                BRSR6   \n",
       "4  INTER DISTRIBUIDORA DE TITULOS E VALORES MOBIL...                DIRR3   \n",
       "\n",
       "  Código ISIN / Distribuição  Tipo                              Escriturador  \\\n",
       "0         BRABEVACNOR1 - 125    ON                        BANCO BRADESCO S/A   \n",
       "1         BRALUPCDAM15 - 112  UNIT                               ITAU CV S/A   \n",
       "2         BRBBSEACNOR5 - 119    ON                       BANCO DO BRASIL S/A   \n",
       "3         BRBRSRACNPB4 - 179   PNB  BANCO DO ESTADO DO RIO GRANDE DO SUL S/A   \n",
       "4         BRDIRRACNOR0 - 114    ON                        BANCO BRADESCO S/A   \n",
       "\n",
       "  Quantidade Quantidade Disponível Quantidade Indisponível Motivo  \\\n",
       "0        147                   147                       -      -   \n",
       "1         86                    86                       -      -   \n",
       "2        113                   113                       -      -   \n",
       "3        210                   210                       -      -   \n",
       "4        242                   242                       -      -   \n",
       "\n",
       "  Preço de Fechamento Valor Atualizado  \n",
       "0               14.93          2194.71  \n",
       "1                  25             2150  \n",
       "2               22.68          2562.84  \n",
       "3               10.78           2263.8  \n",
       "4               13.49          3264.58  "
      ]
     },
     "execution_count": 9,
     "metadata": {},
     "output_type": "execute_result"
    }
   ],
   "source": [
    "xl_dataframe.head()"
   ]
  },
  {
   "cell_type": "code",
   "execution_count": 10,
   "metadata": {},
   "outputs": [
    {
     "data": {
      "text/plain": [
       "False"
      ]
     },
     "execution_count": 10,
     "metadata": {},
     "output_type": "execute_result"
    }
   ],
   "source": [
    "output_file = '/mnt/d/Temp/worksheet.xlsx'\n",
    "os.path.exists(output_file)"
   ]
  },
  {
   "cell_type": "code",
   "execution_count": 11,
   "metadata": {},
   "outputs": [],
   "source": [
    "XL.write_to_sheet(xl_dataframe, output_file, 'Ações')"
   ]
  },
  {
   "cell_type": "code",
   "execution_count": 12,
   "metadata": {},
   "outputs": [
    {
     "data": {
      "text/plain": [
       "True"
      ]
     },
     "execution_count": 12,
     "metadata": {},
     "output_type": "execute_result"
    }
   ],
   "source": [
    "os.path.exists(output_file)"
   ]
  },
  {
   "cell_type": "code",
   "execution_count": 13,
   "metadata": {},
   "outputs": [],
   "source": [
    "XL.write_to_sheet(xl_dataframe, output_file, 'Ações')"
   ]
  },
  {
   "cell_type": "code",
   "execution_count": 14,
   "metadata": {},
   "outputs": [],
   "source": [
    "XL.write_to_sheet(xl_dataframe, output_file, 'AçõesX')"
   ]
  },
  {
   "cell_type": "code",
   "execution_count": 15,
   "metadata": {},
   "outputs": [],
   "source": [
    "xl_all = XL.get_all_sheets(output_file)"
   ]
  },
  {
   "cell_type": "code",
   "execution_count": 19,
   "metadata": {},
   "outputs": [
    {
     "data": {
      "text/plain": [
       "['Ações', 'Ações1', 'AçõesX']"
      ]
     },
     "execution_count": 19,
     "metadata": {},
     "output_type": "execute_result"
    }
   ],
   "source": [
    "[k for k in xl_all.keys()]"
   ]
  },
  {
   "cell_type": "code",
   "execution_count": null,
   "metadata": {},
   "outputs": [],
   "source": []
  }
 ],
 "metadata": {
  "interpreter": {
   "hash": "9b6c7ae2ddbf1449f198ea952a18f6510b8354f2a02a0217609ea827acd7b046"
  },
  "kernelspec": {
   "display_name": "Python 3 (ipykernel)",
   "language": "python",
   "name": "python3"
  },
  "language_info": {
   "codemirror_mode": {
    "name": "ipython",
    "version": 3
   },
   "file_extension": ".py",
   "mimetype": "text/x-python",
   "name": "python",
   "nbconvert_exporter": "python",
   "pygments_lexer": "ipython3",
   "version": "3.8.10"
  }
 },
 "nbformat": 4,
 "nbformat_minor": 4
}
