{
 "cells": [
  {
   "cell_type": "code",
   "execution_count": 1,
   "metadata": {},
   "outputs": [],
   "source": [
    "import os, sys\n",
    "sys.path.insert(0, '..')"
   ]
  },
  {
   "cell_type": "code",
   "execution_count": 3,
   "metadata": {},
   "outputs": [],
   "source": [
    "from fbpyutils import xlsx as XL, db as DB\n",
    "from fbpyutils.db import _deal_with_nans\n",
    "import hashlib"
   ]
  },
  {
   "cell_type": "code",
   "execution_count": 20,
   "metadata": {},
   "outputs": [
    {
     "data": {
      "text/html": [
       "<div>\n",
       "<style scoped>\n",
       "    .dataframe tbody tr th:only-of-type {\n",
       "        vertical-align: middle;\n",
       "    }\n",
       "\n",
       "    .dataframe tbody tr th {\n",
       "        vertical-align: top;\n",
       "    }\n",
       "\n",
       "    .dataframe thead th {\n",
       "        text-align: right;\n",
       "    }\n",
       "</style>\n",
       "<table border=\"1\" class=\"dataframe\">\n",
       "  <thead>\n",
       "    <tr style=\"text-align: right;\">\n",
       "      <th></th>\n",
       "      <th>StringColumn</th>\n",
       "      <th>NumberColumn</th>\n",
       "      <th>DateColumn</th>\n",
       "      <th>FloatColumn</th>\n",
       "      <th>FakeDateColumn</th>\n",
       "      <th>FakeNumColumn</th>\n",
       "      <th>FakeStringColumn</th>\n",
       "    </tr>\n",
       "  </thead>\n",
       "  <tbody>\n",
       "    <tr>\n",
       "      <th>0</th>\n",
       "      <td>Apple</td>\n",
       "      <td>10</td>\n",
       "      <td>2022-01-01</td>\n",
       "      <td>0.586971</td>\n",
       "      <td>2023-06-31</td>\n",
       "      <td>0.1</td>\n",
       "      <td>X</td>\n",
       "    </tr>\n",
       "    <tr>\n",
       "      <th>1</th>\n",
       "      <td>Banana</td>\n",
       "      <td>20</td>\n",
       "      <td>2022-01-02</td>\n",
       "      <td>0.151301</td>\n",
       "      <td>2021-01-01</td>\n",
       "      <td>1000.23</td>\n",
       "      <td></td>\n",
       "    </tr>\n",
       "    <tr>\n",
       "      <th>2</th>\n",
       "      <td>Orange</td>\n",
       "      <td>30</td>\n",
       "      <td>2022-01-03</td>\n",
       "      <td>0.467924</td>\n",
       "      <td>None</td>\n",
       "      <td>1ˆ123</td>\n",
       "      <td>1</td>\n",
       "    </tr>\n",
       "    <tr>\n",
       "      <th>3</th>\n",
       "      <td>Grape</td>\n",
       "      <td>40</td>\n",
       "      <td>2022-01-04</td>\n",
       "      <td>0.401125</td>\n",
       "      <td></td>\n",
       "      <td>None</td>\n",
       "      <td>None</td>\n",
       "    </tr>\n",
       "    <tr>\n",
       "      <th>4</th>\n",
       "      <td>Mango</td>\n",
       "      <td>50</td>\n",
       "      <td>2022-01-05</td>\n",
       "      <td>0.516477</td>\n",
       "      <td>2023-12-32</td>\n",
       "      <td></td>\n",
       "      <td></td>\n",
       "    </tr>\n",
       "  </tbody>\n",
       "</table>\n",
       "</div>"
      ],
      "text/plain": [
       "  StringColumn  NumberColumn DateColumn  FloatColumn FakeDateColumn  \\\n",
       "0        Apple            10 2022-01-01     0.586971     2023-06-31   \n",
       "1       Banana            20 2022-01-02     0.151301     2021-01-01   \n",
       "2       Orange            30 2022-01-03     0.467924           None   \n",
       "3        Grape            40 2022-01-04     0.401125                  \n",
       "4        Mango            50 2022-01-05     0.516477     2023-12-32   \n",
       "\n",
       "  FakeNumColumn FakeStringColumn  \n",
       "0           0.1                X  \n",
       "1       1000.23                   \n",
       "2         1ˆ123                1  \n",
       "3          None             None  \n",
       "4                                 "
      ]
     },
     "execution_count": 20,
     "metadata": {},
     "output_type": "execute_result"
    }
   ],
   "source": [
    "import pandas as pd\n",
    "import numpy as np\n",
    "\n",
    "data = {\n",
    "    'StringColumn': ['Apple', 'Banana', 'Orange', 'Grape', 'Mango'],\n",
    "    'NumberColumn': [10, 20, 30, 40, 50],\n",
    "    'DateColumn': pd.date_range('2022-01-01', periods=5),\n",
    "    'FloatColumn': np.random.rand(5),\n",
    "    'FakeDateColumn': ['2023-06-31', '2021-01-01', None, '', '2023-12-32'],\n",
    "    'FakeNumColumn': ['0.1', '1000.23', '1ˆ123', None, ''],\n",
    "    'FakeStringColumn': ['X', '', '1', None, ''],\n",
    "}\n",
    "\n",
    "df = pd.DataFrame(data)\n",
    "\n",
    "df"
   ]
  },
  {
   "cell_type": "code",
   "execution_count": 21,
   "metadata": {},
   "outputs": [],
   "source": [
    "df['FakeDateColumn'] = pd.to_datetime(df['FakeDateColumn'], format='%Y-%m-%d', errors='coerce')"
   ]
  },
  {
   "cell_type": "code",
   "execution_count": 22,
   "metadata": {},
   "outputs": [],
   "source": [
    "df['FakeNumColumn'] = pd.to_numeric(df['FakeNumColumn'], errors='coerce')"
   ]
  },
  {
   "cell_type": "code",
   "execution_count": 23,
   "metadata": {},
   "outputs": [],
   "source": [
    "values = []\n",
    "for i, row in df.iterrows():\n",
    "    values.append({col: _deal_with_nans(row[col]) for col in df.columns})"
   ]
  },
  {
   "cell_type": "code",
   "execution_count": 24,
   "metadata": {},
   "outputs": [
    {
     "data": {
      "text/html": [
       "<div>\n",
       "<style scoped>\n",
       "    .dataframe tbody tr th:only-of-type {\n",
       "        vertical-align: middle;\n",
       "    }\n",
       "\n",
       "    .dataframe tbody tr th {\n",
       "        vertical-align: top;\n",
       "    }\n",
       "\n",
       "    .dataframe thead th {\n",
       "        text-align: right;\n",
       "    }\n",
       "</style>\n",
       "<table border=\"1\" class=\"dataframe\">\n",
       "  <thead>\n",
       "    <tr style=\"text-align: right;\">\n",
       "      <th></th>\n",
       "      <th>StringColumn</th>\n",
       "      <th>NumberColumn</th>\n",
       "      <th>DateColumn</th>\n",
       "      <th>FloatColumn</th>\n",
       "      <th>FakeDateColumn</th>\n",
       "      <th>FakeNumColumn</th>\n",
       "      <th>FakeStringColumn</th>\n",
       "    </tr>\n",
       "  </thead>\n",
       "  <tbody>\n",
       "    <tr>\n",
       "      <th>0</th>\n",
       "      <td>Apple</td>\n",
       "      <td>10</td>\n",
       "      <td>2022-01-01</td>\n",
       "      <td>0.586971</td>\n",
       "      <td>NaT</td>\n",
       "      <td>0.10</td>\n",
       "      <td>X</td>\n",
       "    </tr>\n",
       "    <tr>\n",
       "      <th>1</th>\n",
       "      <td>Banana</td>\n",
       "      <td>20</td>\n",
       "      <td>2022-01-02</td>\n",
       "      <td>0.151301</td>\n",
       "      <td>2021-01-01</td>\n",
       "      <td>1000.23</td>\n",
       "      <td></td>\n",
       "    </tr>\n",
       "    <tr>\n",
       "      <th>2</th>\n",
       "      <td>Orange</td>\n",
       "      <td>30</td>\n",
       "      <td>2022-01-03</td>\n",
       "      <td>0.467924</td>\n",
       "      <td>NaT</td>\n",
       "      <td>NaN</td>\n",
       "      <td>1</td>\n",
       "    </tr>\n",
       "    <tr>\n",
       "      <th>3</th>\n",
       "      <td>Grape</td>\n",
       "      <td>40</td>\n",
       "      <td>2022-01-04</td>\n",
       "      <td>0.401125</td>\n",
       "      <td>NaT</td>\n",
       "      <td>NaN</td>\n",
       "      <td>None</td>\n",
       "    </tr>\n",
       "    <tr>\n",
       "      <th>4</th>\n",
       "      <td>Mango</td>\n",
       "      <td>50</td>\n",
       "      <td>2022-01-05</td>\n",
       "      <td>0.516477</td>\n",
       "      <td>NaT</td>\n",
       "      <td>NaN</td>\n",
       "      <td></td>\n",
       "    </tr>\n",
       "  </tbody>\n",
       "</table>\n",
       "</div>"
      ],
      "text/plain": [
       "  StringColumn  NumberColumn DateColumn  FloatColumn FakeDateColumn  \\\n",
       "0        Apple            10 2022-01-01     0.586971            NaT   \n",
       "1       Banana            20 2022-01-02     0.151301     2021-01-01   \n",
       "2       Orange            30 2022-01-03     0.467924            NaT   \n",
       "3        Grape            40 2022-01-04     0.401125            NaT   \n",
       "4        Mango            50 2022-01-05     0.516477            NaT   \n",
       "\n",
       "   FakeNumColumn FakeStringColumn  \n",
       "0           0.10                X  \n",
       "1        1000.23                   \n",
       "2            NaN                1  \n",
       "3            NaN             None  \n",
       "4            NaN                   "
      ]
     },
     "execution_count": 24,
     "metadata": {},
     "output_type": "execute_result"
    }
   ],
   "source": [
    "df"
   ]
  },
  {
   "cell_type": "code",
   "execution_count": 25,
   "metadata": {},
   "outputs": [
    {
     "data": {
      "text/plain": [
       "[{'StringColumn': 'Apple',\n",
       "  'NumberColumn': 10,\n",
       "  'DateColumn': Timestamp('2022-01-01 00:00:00'),\n",
       "  'FloatColumn': 0.5869707012426717,\n",
       "  'FakeDateColumn': None,\n",
       "  'FakeNumColumn': 0.1,\n",
       "  'FakeStringColumn': 'X'},\n",
       " {'StringColumn': 'Banana',\n",
       "  'NumberColumn': 20,\n",
       "  'DateColumn': Timestamp('2022-01-02 00:00:00'),\n",
       "  'FloatColumn': 0.15130083925577098,\n",
       "  'FakeDateColumn': Timestamp('2021-01-01 00:00:00'),\n",
       "  'FakeNumColumn': 1000.23,\n",
       "  'FakeStringColumn': None},\n",
       " {'StringColumn': 'Orange',\n",
       "  'NumberColumn': 30,\n",
       "  'DateColumn': Timestamp('2022-01-03 00:00:00'),\n",
       "  'FloatColumn': 0.4679238747233362,\n",
       "  'FakeDateColumn': None,\n",
       "  'FakeNumColumn': None,\n",
       "  'FakeStringColumn': '1'},\n",
       " {'StringColumn': 'Grape',\n",
       "  'NumberColumn': 40,\n",
       "  'DateColumn': Timestamp('2022-01-04 00:00:00'),\n",
       "  'FloatColumn': 0.4011252708722629,\n",
       "  'FakeDateColumn': None,\n",
       "  'FakeNumColumn': None,\n",
       "  'FakeStringColumn': None},\n",
       " {'StringColumn': 'Mango',\n",
       "  'NumberColumn': 50,\n",
       "  'DateColumn': Timestamp('2022-01-05 00:00:00'),\n",
       "  'FloatColumn': 0.5164770609813341,\n",
       "  'FakeDateColumn': None,\n",
       "  'FakeNumColumn': None,\n",
       "  'FakeStringColumn': None}]"
      ]
     },
     "execution_count": 25,
     "metadata": {},
     "output_type": "execute_result"
    }
   ],
   "source": [
    "values"
   ]
  },
  {
   "cell_type": "code",
   "execution_count": null,
   "metadata": {},
   "outputs": [],
   "source": []
  }
 ],
 "metadata": {
  "kernelspec": {
   "display_name": "fbpyutils-IGl4-GRW",
   "language": "python",
   "name": "python3"
  },
  "language_info": {
   "codemirror_mode": {
    "name": "ipython",
    "version": 3
   },
   "file_extension": ".py",
   "mimetype": "text/x-python",
   "name": "python",
   "nbconvert_exporter": "python",
   "pygments_lexer": "ipython3",
   "version": "3.10.10"
  },
  "vscode": {
   "interpreter": {
    "hash": "6751960e02e7689ae8a83e1c4c6124a19ee8037fb487a081cd43822d590c0ed2"
   }
  }
 },
 "nbformat": 4,
 "nbformat_minor": 4
}
